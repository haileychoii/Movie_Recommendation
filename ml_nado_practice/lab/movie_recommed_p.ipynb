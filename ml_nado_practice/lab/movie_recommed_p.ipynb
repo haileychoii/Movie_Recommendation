{
 "cells": [
  {
   "cell_type": "markdown",
   "source": [
    "# Movie Recommendation System\n",
    "1. Demographic Filtering (인구통계학적 필터링)\n",
    "2. Content Based Filtering (컨텐츠 기반 필터링)\n",
    "3. Collaborative Filtering (협업 필터링)"
   ],
   "metadata": {
    "collapsed": false,
    "pycharm": {
     "name": "#%% md\n"
    }
   }
  },
  {
   "cell_type": "markdown",
   "source": [
    "## 1. Demographic Filtering (인구통계학적 필터링)"
   ],
   "metadata": {
    "collapsed": false,
    "pycharm": {
     "name": "#%% md\n"
    }
   }
  },
  {
   "cell_type": "code",
   "execution_count": 1,
   "outputs": [],
   "source": [
    "import pandas as pd\n",
    "import numpy as np\n",
    "df1 = pd.read_csv('tmdb_5000_credits.csv')\n",
    "df2 = pd.read_csv('tmdb_5000_movies.csv')"
   ],
   "metadata": {
    "collapsed": false,
    "pycharm": {
     "name": "#%%\n"
    }
   }
  },
  {
   "cell_type": "code",
   "execution_count": 2,
   "outputs": [
    {
     "data": {
      "text/plain": "   movie_id                                     title  \\\n0     19995                                    Avatar   \n1       285  Pirates of the Caribbean: At World's End   \n2    206647                                   Spectre   \n3     49026                     The Dark Knight Rises   \n4     49529                               John Carter   \n\n                                                cast  \\\n0  [{\"cast_id\": 242, \"character\": \"Jake Sully\", \"...   \n1  [{\"cast_id\": 4, \"character\": \"Captain Jack Spa...   \n2  [{\"cast_id\": 1, \"character\": \"James Bond\", \"cr...   \n3  [{\"cast_id\": 2, \"character\": \"Bruce Wayne / Ba...   \n4  [{\"cast_id\": 5, \"character\": \"John Carter\", \"c...   \n\n                                                crew  \n0  [{\"credit_id\": \"52fe48009251416c750aca23\", \"de...  \n1  [{\"credit_id\": \"52fe4232c3a36847f800b579\", \"de...  \n2  [{\"credit_id\": \"54805967c3a36829b5002c41\", \"de...  \n3  [{\"credit_id\": \"52fe4781c3a36847f81398c3\", \"de...  \n4  [{\"credit_id\": \"52fe479ac3a36847f813eaa3\", \"de...  ",
      "text/html": "<div>\n<style scoped>\n    .dataframe tbody tr th:only-of-type {\n        vertical-align: middle;\n    }\n\n    .dataframe tbody tr th {\n        vertical-align: top;\n    }\n\n    .dataframe thead th {\n        text-align: right;\n    }\n</style>\n<table border=\"1\" class=\"dataframe\">\n  <thead>\n    <tr style=\"text-align: right;\">\n      <th></th>\n      <th>movie_id</th>\n      <th>title</th>\n      <th>cast</th>\n      <th>crew</th>\n    </tr>\n  </thead>\n  <tbody>\n    <tr>\n      <th>0</th>\n      <td>19995</td>\n      <td>Avatar</td>\n      <td>[{\"cast_id\": 242, \"character\": \"Jake Sully\", \"...</td>\n      <td>[{\"credit_id\": \"52fe48009251416c750aca23\", \"de...</td>\n    </tr>\n    <tr>\n      <th>1</th>\n      <td>285</td>\n      <td>Pirates of the Caribbean: At World's End</td>\n      <td>[{\"cast_id\": 4, \"character\": \"Captain Jack Spa...</td>\n      <td>[{\"credit_id\": \"52fe4232c3a36847f800b579\", \"de...</td>\n    </tr>\n    <tr>\n      <th>2</th>\n      <td>206647</td>\n      <td>Spectre</td>\n      <td>[{\"cast_id\": 1, \"character\": \"James Bond\", \"cr...</td>\n      <td>[{\"credit_id\": \"54805967c3a36829b5002c41\", \"de...</td>\n    </tr>\n    <tr>\n      <th>3</th>\n      <td>49026</td>\n      <td>The Dark Knight Rises</td>\n      <td>[{\"cast_id\": 2, \"character\": \"Bruce Wayne / Ba...</td>\n      <td>[{\"credit_id\": \"52fe4781c3a36847f81398c3\", \"de...</td>\n    </tr>\n    <tr>\n      <th>4</th>\n      <td>49529</td>\n      <td>John Carter</td>\n      <td>[{\"cast_id\": 5, \"character\": \"John Carter\", \"c...</td>\n      <td>[{\"credit_id\": \"52fe479ac3a36847f813eaa3\", \"de...</td>\n    </tr>\n  </tbody>\n</table>\n</div>"
     },
     "execution_count": 2,
     "metadata": {},
     "output_type": "execute_result"
    }
   ],
   "source": [
    "df1.head()"
   ],
   "metadata": {
    "collapsed": false,
    "pycharm": {
     "name": "#%%\n"
    }
   }
  },
  {
   "cell_type": "code",
   "execution_count": 3,
   "outputs": [
    {
     "data": {
      "text/plain": "      budget                                             genres  \\\n0  237000000  [{\"id\": 28, \"name\": \"Action\"}, {\"id\": 12, \"nam...   \n1  300000000  [{\"id\": 12, \"name\": \"Adventure\"}, {\"id\": 14, \"...   \n2  245000000  [{\"id\": 28, \"name\": \"Action\"}, {\"id\": 12, \"nam...   \n\n                                       homepage      id  \\\n0                   http://www.avatarmovie.com/   19995   \n1  http://disney.go.com/disneypictures/pirates/     285   \n2   http://www.sonypictures.com/movies/spectre/  206647   \n\n                                            keywords original_language  \\\n0  [{\"id\": 1463, \"name\": \"culture clash\"}, {\"id\":...                en   \n1  [{\"id\": 270, \"name\": \"ocean\"}, {\"id\": 726, \"na...                en   \n2  [{\"id\": 470, \"name\": \"spy\"}, {\"id\": 818, \"name...                en   \n\n                             original_title  \\\n0                                    Avatar   \n1  Pirates of the Caribbean: At World's End   \n2                                   Spectre   \n\n                                            overview  popularity  \\\n0  In the 22nd century, a paraplegic Marine is di...  150.437577   \n1  Captain Barbossa, long believed to be dead, ha...  139.082615   \n2  A cryptic message from Bond’s past sends him o...  107.376788   \n\n                                production_companies  \\\n0  [{\"name\": \"Ingenious Film Partners\", \"id\": 289...   \n1  [{\"name\": \"Walt Disney Pictures\", \"id\": 2}, {\"...   \n2  [{\"name\": \"Columbia Pictures\", \"id\": 5}, {\"nam...   \n\n                                production_countries release_date     revenue  \\\n0  [{\"iso_3166_1\": \"US\", \"name\": \"United States o...   2009-12-10  2787965087   \n1  [{\"iso_3166_1\": \"US\", \"name\": \"United States o...   2007-05-19   961000000   \n2  [{\"iso_3166_1\": \"GB\", \"name\": \"United Kingdom\"...   2015-10-26   880674609   \n\n   runtime                                   spoken_languages    status  \\\n0    162.0  [{\"iso_639_1\": \"en\", \"name\": \"English\"}, {\"iso...  Released   \n1    169.0           [{\"iso_639_1\": \"en\", \"name\": \"English\"}]  Released   \n2    148.0  [{\"iso_639_1\": \"fr\", \"name\": \"Fran\\u00e7ais\"},...  Released   \n\n                                          tagline  \\\n0                     Enter the World of Pandora.   \n1  At the end of the world, the adventure begins.   \n2                           A Plan No One Escapes   \n\n                                      title  vote_average  vote_count  \n0                                    Avatar           7.2       11800  \n1  Pirates of the Caribbean: At World's End           6.9        4500  \n2                                   Spectre           6.3        4466  ",
      "text/html": "<div>\n<style scoped>\n    .dataframe tbody tr th:only-of-type {\n        vertical-align: middle;\n    }\n\n    .dataframe tbody tr th {\n        vertical-align: top;\n    }\n\n    .dataframe thead th {\n        text-align: right;\n    }\n</style>\n<table border=\"1\" class=\"dataframe\">\n  <thead>\n    <tr style=\"text-align: right;\">\n      <th></th>\n      <th>budget</th>\n      <th>genres</th>\n      <th>homepage</th>\n      <th>id</th>\n      <th>keywords</th>\n      <th>original_language</th>\n      <th>original_title</th>\n      <th>overview</th>\n      <th>popularity</th>\n      <th>production_companies</th>\n      <th>production_countries</th>\n      <th>release_date</th>\n      <th>revenue</th>\n      <th>runtime</th>\n      <th>spoken_languages</th>\n      <th>status</th>\n      <th>tagline</th>\n      <th>title</th>\n      <th>vote_average</th>\n      <th>vote_count</th>\n    </tr>\n  </thead>\n  <tbody>\n    <tr>\n      <th>0</th>\n      <td>237000000</td>\n      <td>[{\"id\": 28, \"name\": \"Action\"}, {\"id\": 12, \"nam...</td>\n      <td>http://www.avatarmovie.com/</td>\n      <td>19995</td>\n      <td>[{\"id\": 1463, \"name\": \"culture clash\"}, {\"id\":...</td>\n      <td>en</td>\n      <td>Avatar</td>\n      <td>In the 22nd century, a paraplegic Marine is di...</td>\n      <td>150.437577</td>\n      <td>[{\"name\": \"Ingenious Film Partners\", \"id\": 289...</td>\n      <td>[{\"iso_3166_1\": \"US\", \"name\": \"United States o...</td>\n      <td>2009-12-10</td>\n      <td>2787965087</td>\n      <td>162.0</td>\n      <td>[{\"iso_639_1\": \"en\", \"name\": \"English\"}, {\"iso...</td>\n      <td>Released</td>\n      <td>Enter the World of Pandora.</td>\n      <td>Avatar</td>\n      <td>7.2</td>\n      <td>11800</td>\n    </tr>\n    <tr>\n      <th>1</th>\n      <td>300000000</td>\n      <td>[{\"id\": 12, \"name\": \"Adventure\"}, {\"id\": 14, \"...</td>\n      <td>http://disney.go.com/disneypictures/pirates/</td>\n      <td>285</td>\n      <td>[{\"id\": 270, \"name\": \"ocean\"}, {\"id\": 726, \"na...</td>\n      <td>en</td>\n      <td>Pirates of the Caribbean: At World's End</td>\n      <td>Captain Barbossa, long believed to be dead, ha...</td>\n      <td>139.082615</td>\n      <td>[{\"name\": \"Walt Disney Pictures\", \"id\": 2}, {\"...</td>\n      <td>[{\"iso_3166_1\": \"US\", \"name\": \"United States o...</td>\n      <td>2007-05-19</td>\n      <td>961000000</td>\n      <td>169.0</td>\n      <td>[{\"iso_639_1\": \"en\", \"name\": \"English\"}]</td>\n      <td>Released</td>\n      <td>At the end of the world, the adventure begins.</td>\n      <td>Pirates of the Caribbean: At World's End</td>\n      <td>6.9</td>\n      <td>4500</td>\n    </tr>\n    <tr>\n      <th>2</th>\n      <td>245000000</td>\n      <td>[{\"id\": 28, \"name\": \"Action\"}, {\"id\": 12, \"nam...</td>\n      <td>http://www.sonypictures.com/movies/spectre/</td>\n      <td>206647</td>\n      <td>[{\"id\": 470, \"name\": \"spy\"}, {\"id\": 818, \"name...</td>\n      <td>en</td>\n      <td>Spectre</td>\n      <td>A cryptic message from Bond’s past sends him o...</td>\n      <td>107.376788</td>\n      <td>[{\"name\": \"Columbia Pictures\", \"id\": 5}, {\"nam...</td>\n      <td>[{\"iso_3166_1\": \"GB\", \"name\": \"United Kingdom\"...</td>\n      <td>2015-10-26</td>\n      <td>880674609</td>\n      <td>148.0</td>\n      <td>[{\"iso_639_1\": \"fr\", \"name\": \"Fran\\u00e7ais\"},...</td>\n      <td>Released</td>\n      <td>A Plan No One Escapes</td>\n      <td>Spectre</td>\n      <td>6.3</td>\n      <td>4466</td>\n    </tr>\n  </tbody>\n</table>\n</div>"
     },
     "execution_count": 3,
     "metadata": {},
     "output_type": "execute_result"
    }
   ],
   "source": [
    "df2.head(3)"
   ],
   "metadata": {
    "collapsed": false,
    "pycharm": {
     "name": "#%%\n"
    }
   }
  },
  {
   "cell_type": "code",
   "execution_count": 4,
   "outputs": [
    {
     "data": {
      "text/plain": "((4803, 4), (4803, 20))"
     },
     "execution_count": 4,
     "metadata": {},
     "output_type": "execute_result"
    }
   ],
   "source": [
    "df1.shape, df2.shape"
   ],
   "metadata": {
    "collapsed": false,
    "pycharm": {
     "name": "#%%\n"
    }
   }
  },
  {
   "cell_type": "code",
   "execution_count": 5,
   "outputs": [
    {
     "data": {
      "text/plain": "True"
     },
     "execution_count": 5,
     "metadata": {},
     "output_type": "execute_result"
    }
   ],
   "source": [
    "df1['title'].equals(df2['title'])"
   ],
   "metadata": {
    "collapsed": false,
    "pycharm": {
     "name": "#%%\n"
    }
   }
  },
  {
   "cell_type": "code",
   "execution_count": 6,
   "outputs": [
    {
     "data": {
      "text/plain": "Index(['movie_id', 'title', 'cast', 'crew'], dtype='object')"
     },
     "execution_count": 6,
     "metadata": {},
     "output_type": "execute_result"
    }
   ],
   "source": [
    "df1.columns"
   ],
   "metadata": {
    "collapsed": false,
    "pycharm": {
     "name": "#%%\n"
    }
   }
  },
  {
   "cell_type": "code",
   "execution_count": 7,
   "outputs": [
    {
     "data": {
      "text/plain": "Index(['id', 'title', 'cast', 'crew'], dtype='object')"
     },
     "execution_count": 7,
     "metadata": {},
     "output_type": "execute_result"
    }
   ],
   "source": [
    "df1.columns = ['id', 'title', 'cast', 'crew']\n",
    "df1.columns"
   ],
   "metadata": {
    "collapsed": false,
    "pycharm": {
     "name": "#%%\n"
    }
   }
  },
  {
   "cell_type": "code",
   "execution_count": 8,
   "outputs": [
    {
     "data": {
      "text/plain": "          id                                               cast  \\\n0      19995  [{\"cast_id\": 242, \"character\": \"Jake Sully\", \"...   \n1        285  [{\"cast_id\": 4, \"character\": \"Captain Jack Spa...   \n2     206647  [{\"cast_id\": 1, \"character\": \"James Bond\", \"cr...   \n3      49026  [{\"cast_id\": 2, \"character\": \"Bruce Wayne / Ba...   \n4      49529  [{\"cast_id\": 5, \"character\": \"John Carter\", \"c...   \n...      ...                                                ...   \n4798    9367  [{\"cast_id\": 1, \"character\": \"El Mariachi\", \"c...   \n4799   72766  [{\"cast_id\": 1, \"character\": \"Buzzy\", \"credit_...   \n4800  231617  [{\"cast_id\": 8, \"character\": \"Oliver O\\u2019To...   \n4801  126186  [{\"cast_id\": 3, \"character\": \"Sam\", \"credit_id...   \n4802   25975  [{\"cast_id\": 3, \"character\": \"Herself\", \"credi...   \n\n                                                   crew  \n0     [{\"credit_id\": \"52fe48009251416c750aca23\", \"de...  \n1     [{\"credit_id\": \"52fe4232c3a36847f800b579\", \"de...  \n2     [{\"credit_id\": \"54805967c3a36829b5002c41\", \"de...  \n3     [{\"credit_id\": \"52fe4781c3a36847f81398c3\", \"de...  \n4     [{\"credit_id\": \"52fe479ac3a36847f813eaa3\", \"de...  \n...                                                 ...  \n4798  [{\"credit_id\": \"52fe44eec3a36847f80b280b\", \"de...  \n4799  [{\"credit_id\": \"52fe487dc3a368484e0fb013\", \"de...  \n4800  [{\"credit_id\": \"52fe4df3c3a36847f8275ecf\", \"de...  \n4801  [{\"credit_id\": \"52fe4ad9c3a368484e16a36b\", \"de...  \n4802  [{\"credit_id\": \"58ce021b9251415a390165d9\", \"de...  \n\n[4803 rows x 3 columns]",
      "text/html": "<div>\n<style scoped>\n    .dataframe tbody tr th:only-of-type {\n        vertical-align: middle;\n    }\n\n    .dataframe tbody tr th {\n        vertical-align: top;\n    }\n\n    .dataframe thead th {\n        text-align: right;\n    }\n</style>\n<table border=\"1\" class=\"dataframe\">\n  <thead>\n    <tr style=\"text-align: right;\">\n      <th></th>\n      <th>id</th>\n      <th>cast</th>\n      <th>crew</th>\n    </tr>\n  </thead>\n  <tbody>\n    <tr>\n      <th>0</th>\n      <td>19995</td>\n      <td>[{\"cast_id\": 242, \"character\": \"Jake Sully\", \"...</td>\n      <td>[{\"credit_id\": \"52fe48009251416c750aca23\", \"de...</td>\n    </tr>\n    <tr>\n      <th>1</th>\n      <td>285</td>\n      <td>[{\"cast_id\": 4, \"character\": \"Captain Jack Spa...</td>\n      <td>[{\"credit_id\": \"52fe4232c3a36847f800b579\", \"de...</td>\n    </tr>\n    <tr>\n      <th>2</th>\n      <td>206647</td>\n      <td>[{\"cast_id\": 1, \"character\": \"James Bond\", \"cr...</td>\n      <td>[{\"credit_id\": \"54805967c3a36829b5002c41\", \"de...</td>\n    </tr>\n    <tr>\n      <th>3</th>\n      <td>49026</td>\n      <td>[{\"cast_id\": 2, \"character\": \"Bruce Wayne / Ba...</td>\n      <td>[{\"credit_id\": \"52fe4781c3a36847f81398c3\", \"de...</td>\n    </tr>\n    <tr>\n      <th>4</th>\n      <td>49529</td>\n      <td>[{\"cast_id\": 5, \"character\": \"John Carter\", \"c...</td>\n      <td>[{\"credit_id\": \"52fe479ac3a36847f813eaa3\", \"de...</td>\n    </tr>\n    <tr>\n      <th>...</th>\n      <td>...</td>\n      <td>...</td>\n      <td>...</td>\n    </tr>\n    <tr>\n      <th>4798</th>\n      <td>9367</td>\n      <td>[{\"cast_id\": 1, \"character\": \"El Mariachi\", \"c...</td>\n      <td>[{\"credit_id\": \"52fe44eec3a36847f80b280b\", \"de...</td>\n    </tr>\n    <tr>\n      <th>4799</th>\n      <td>72766</td>\n      <td>[{\"cast_id\": 1, \"character\": \"Buzzy\", \"credit_...</td>\n      <td>[{\"credit_id\": \"52fe487dc3a368484e0fb013\", \"de...</td>\n    </tr>\n    <tr>\n      <th>4800</th>\n      <td>231617</td>\n      <td>[{\"cast_id\": 8, \"character\": \"Oliver O\\u2019To...</td>\n      <td>[{\"credit_id\": \"52fe4df3c3a36847f8275ecf\", \"de...</td>\n    </tr>\n    <tr>\n      <th>4801</th>\n      <td>126186</td>\n      <td>[{\"cast_id\": 3, \"character\": \"Sam\", \"credit_id...</td>\n      <td>[{\"credit_id\": \"52fe4ad9c3a368484e16a36b\", \"de...</td>\n    </tr>\n    <tr>\n      <th>4802</th>\n      <td>25975</td>\n      <td>[{\"cast_id\": 3, \"character\": \"Herself\", \"credi...</td>\n      <td>[{\"credit_id\": \"58ce021b9251415a390165d9\", \"de...</td>\n    </tr>\n  </tbody>\n</table>\n<p>4803 rows × 3 columns</p>\n</div>"
     },
     "execution_count": 8,
     "metadata": {},
     "output_type": "execute_result"
    }
   ],
   "source": [
    "df1[['id', 'cast', 'crew']]"
   ],
   "metadata": {
    "collapsed": false,
    "pycharm": {
     "name": "#%%\n"
    }
   }
  },
  {
   "cell_type": "code",
   "execution_count": 9,
   "outputs": [
    {
     "data": {
      "text/plain": "      budget                                             genres  \\\n0  237000000  [{\"id\": 28, \"name\": \"Action\"}, {\"id\": 12, \"nam...   \n1  300000000  [{\"id\": 12, \"name\": \"Adventure\"}, {\"id\": 14, \"...   \n2  245000000  [{\"id\": 28, \"name\": \"Action\"}, {\"id\": 12, \"nam...   \n\n                                       homepage      id  \\\n0                   http://www.avatarmovie.com/   19995   \n1  http://disney.go.com/disneypictures/pirates/     285   \n2   http://www.sonypictures.com/movies/spectre/  206647   \n\n                                            keywords original_language  \\\n0  [{\"id\": 1463, \"name\": \"culture clash\"}, {\"id\":...                en   \n1  [{\"id\": 270, \"name\": \"ocean\"}, {\"id\": 726, \"na...                en   \n2  [{\"id\": 470, \"name\": \"spy\"}, {\"id\": 818, \"name...                en   \n\n                             original_title  \\\n0                                    Avatar   \n1  Pirates of the Caribbean: At World's End   \n2                                   Spectre   \n\n                                            overview  popularity  \\\n0  In the 22nd century, a paraplegic Marine is di...  150.437577   \n1  Captain Barbossa, long believed to be dead, ha...  139.082615   \n2  A cryptic message from Bond’s past sends him o...  107.376788   \n\n                                production_companies  ...     revenue runtime  \\\n0  [{\"name\": \"Ingenious Film Partners\", \"id\": 289...  ...  2787965087   162.0   \n1  [{\"name\": \"Walt Disney Pictures\", \"id\": 2}, {\"...  ...   961000000   169.0   \n2  [{\"name\": \"Columbia Pictures\", \"id\": 5}, {\"nam...  ...   880674609   148.0   \n\n                                    spoken_languages    status  \\\n0  [{\"iso_639_1\": \"en\", \"name\": \"English\"}, {\"iso...  Released   \n1           [{\"iso_639_1\": \"en\", \"name\": \"English\"}]  Released   \n2  [{\"iso_639_1\": \"fr\", \"name\": \"Fran\\u00e7ais\"},...  Released   \n\n                                          tagline  \\\n0                     Enter the World of Pandora.   \n1  At the end of the world, the adventure begins.   \n2                           A Plan No One Escapes   \n\n                                      title vote_average vote_count  \\\n0                                    Avatar          7.2      11800   \n1  Pirates of the Caribbean: At World's End          6.9       4500   \n2                                   Spectre          6.3       4466   \n\n                                                cast  \\\n0  [{\"cast_id\": 242, \"character\": \"Jake Sully\", \"...   \n1  [{\"cast_id\": 4, \"character\": \"Captain Jack Spa...   \n2  [{\"cast_id\": 1, \"character\": \"James Bond\", \"cr...   \n\n                                                crew  \n0  [{\"credit_id\": \"52fe48009251416c750aca23\", \"de...  \n1  [{\"credit_id\": \"52fe4232c3a36847f800b579\", \"de...  \n2  [{\"credit_id\": \"54805967c3a36829b5002c41\", \"de...  \n\n[3 rows x 22 columns]",
      "text/html": "<div>\n<style scoped>\n    .dataframe tbody tr th:only-of-type {\n        vertical-align: middle;\n    }\n\n    .dataframe tbody tr th {\n        vertical-align: top;\n    }\n\n    .dataframe thead th {\n        text-align: right;\n    }\n</style>\n<table border=\"1\" class=\"dataframe\">\n  <thead>\n    <tr style=\"text-align: right;\">\n      <th></th>\n      <th>budget</th>\n      <th>genres</th>\n      <th>homepage</th>\n      <th>id</th>\n      <th>keywords</th>\n      <th>original_language</th>\n      <th>original_title</th>\n      <th>overview</th>\n      <th>popularity</th>\n      <th>production_companies</th>\n      <th>...</th>\n      <th>revenue</th>\n      <th>runtime</th>\n      <th>spoken_languages</th>\n      <th>status</th>\n      <th>tagline</th>\n      <th>title</th>\n      <th>vote_average</th>\n      <th>vote_count</th>\n      <th>cast</th>\n      <th>crew</th>\n    </tr>\n  </thead>\n  <tbody>\n    <tr>\n      <th>0</th>\n      <td>237000000</td>\n      <td>[{\"id\": 28, \"name\": \"Action\"}, {\"id\": 12, \"nam...</td>\n      <td>http://www.avatarmovie.com/</td>\n      <td>19995</td>\n      <td>[{\"id\": 1463, \"name\": \"culture clash\"}, {\"id\":...</td>\n      <td>en</td>\n      <td>Avatar</td>\n      <td>In the 22nd century, a paraplegic Marine is di...</td>\n      <td>150.437577</td>\n      <td>[{\"name\": \"Ingenious Film Partners\", \"id\": 289...</td>\n      <td>...</td>\n      <td>2787965087</td>\n      <td>162.0</td>\n      <td>[{\"iso_639_1\": \"en\", \"name\": \"English\"}, {\"iso...</td>\n      <td>Released</td>\n      <td>Enter the World of Pandora.</td>\n      <td>Avatar</td>\n      <td>7.2</td>\n      <td>11800</td>\n      <td>[{\"cast_id\": 242, \"character\": \"Jake Sully\", \"...</td>\n      <td>[{\"credit_id\": \"52fe48009251416c750aca23\", \"de...</td>\n    </tr>\n    <tr>\n      <th>1</th>\n      <td>300000000</td>\n      <td>[{\"id\": 12, \"name\": \"Adventure\"}, {\"id\": 14, \"...</td>\n      <td>http://disney.go.com/disneypictures/pirates/</td>\n      <td>285</td>\n      <td>[{\"id\": 270, \"name\": \"ocean\"}, {\"id\": 726, \"na...</td>\n      <td>en</td>\n      <td>Pirates of the Caribbean: At World's End</td>\n      <td>Captain Barbossa, long believed to be dead, ha...</td>\n      <td>139.082615</td>\n      <td>[{\"name\": \"Walt Disney Pictures\", \"id\": 2}, {\"...</td>\n      <td>...</td>\n      <td>961000000</td>\n      <td>169.0</td>\n      <td>[{\"iso_639_1\": \"en\", \"name\": \"English\"}]</td>\n      <td>Released</td>\n      <td>At the end of the world, the adventure begins.</td>\n      <td>Pirates of the Caribbean: At World's End</td>\n      <td>6.9</td>\n      <td>4500</td>\n      <td>[{\"cast_id\": 4, \"character\": \"Captain Jack Spa...</td>\n      <td>[{\"credit_id\": \"52fe4232c3a36847f800b579\", \"de...</td>\n    </tr>\n    <tr>\n      <th>2</th>\n      <td>245000000</td>\n      <td>[{\"id\": 28, \"name\": \"Action\"}, {\"id\": 12, \"nam...</td>\n      <td>http://www.sonypictures.com/movies/spectre/</td>\n      <td>206647</td>\n      <td>[{\"id\": 470, \"name\": \"spy\"}, {\"id\": 818, \"name...</td>\n      <td>en</td>\n      <td>Spectre</td>\n      <td>A cryptic message from Bond’s past sends him o...</td>\n      <td>107.376788</td>\n      <td>[{\"name\": \"Columbia Pictures\", \"id\": 5}, {\"nam...</td>\n      <td>...</td>\n      <td>880674609</td>\n      <td>148.0</td>\n      <td>[{\"iso_639_1\": \"fr\", \"name\": \"Fran\\u00e7ais\"},...</td>\n      <td>Released</td>\n      <td>A Plan No One Escapes</td>\n      <td>Spectre</td>\n      <td>6.3</td>\n      <td>4466</td>\n      <td>[{\"cast_id\": 1, \"character\": \"James Bond\", \"cr...</td>\n      <td>[{\"credit_id\": \"54805967c3a36829b5002c41\", \"de...</td>\n    </tr>\n  </tbody>\n</table>\n<p>3 rows × 22 columns</p>\n</div>"
     },
     "execution_count": 9,
     "metadata": {},
     "output_type": "execute_result"
    }
   ],
   "source": [
    "df2 = df2.merge(df1[['id', 'cast', 'crew']], on = 'id')\n",
    "df2.head(3)"
   ],
   "metadata": {
    "collapsed": false,
    "pycharm": {
     "name": "#%%\n"
    }
   }
  },
  {
   "cell_type": "code",
   "execution_count": 10,
   "outputs": [],
   "source": [
    "# 영화 1 : 영화 평점 10/10 -> 5명 평가\n",
    "# 영화 2 : 영화 평점 8/10 -> 400명 평가"
   ],
   "metadata": {
    "collapsed": false,
    "pycharm": {
     "name": "#%%\n"
    }
   }
  },
  {
   "cell_type": "code",
   "execution_count": 11,
   "outputs": [
    {
     "data": {
      "text/plain": "6.092171559442016"
     },
     "execution_count": 11,
     "metadata": {},
     "output_type": "execute_result"
    }
   ],
   "source": [
    "C = df2['vote_average'].mean()\n",
    "C"
   ],
   "metadata": {
    "collapsed": false,
    "pycharm": {
     "name": "#%%\n"
    }
   }
  },
  {
   "cell_type": "code",
   "execution_count": 12,
   "outputs": [
    {
     "data": {
      "text/plain": "1838.4000000000015"
     },
     "execution_count": 12,
     "metadata": {},
     "output_type": "execute_result"
    }
   ],
   "source": [
    "m = df2['vote_count'].quantile(0.9)\n",
    "m"
   ],
   "metadata": {
    "collapsed": false,
    "pycharm": {
     "name": "#%%\n"
    }
   }
  },
  {
   "cell_type": "code",
   "execution_count": 13,
   "outputs": [
    {
     "data": {
      "text/plain": "(481, 22)"
     },
     "execution_count": 13,
     "metadata": {},
     "output_type": "execute_result"
    }
   ],
   "source": [
    "q_movies = df2.copy().loc[df2['vote_count'] >= m]\n",
    "q_movies.shape"
   ],
   "metadata": {
    "collapsed": false,
    "pycharm": {
     "name": "#%%\n"
    }
   }
  },
  {
   "cell_type": "code",
   "execution_count": 14,
   "outputs": [
    {
     "data": {
      "text/plain": "2585     1840\n195      1851\n2454     1859\n597      1862\n1405     1864\n        ...  \n788     10995\n16      11776\n0       11800\n65      12002\n96      13752\nName: vote_count, Length: 481, dtype: int64"
     },
     "execution_count": 14,
     "metadata": {},
     "output_type": "execute_result"
    }
   ],
   "source": [
    "q_movies['vote_count'].sort_values()"
   ],
   "metadata": {
    "collapsed": false,
    "pycharm": {
     "name": "#%%\n"
    }
   }
  },
  {
   "cell_type": "code",
   "execution_count": 15,
   "outputs": [],
   "source": [
    "def weighted_rating(x, m=m, C=C):\n",
    "    v = x['vote_count']\n",
    "    R = x['vote_average']\n",
    "    return(v/(v+m) * R) + (m / (m + v) * C)"
   ],
   "metadata": {
    "collapsed": false,
    "pycharm": {
     "name": "#%%\n"
    }
   }
  },
  {
   "cell_type": "code",
   "execution_count": 16,
   "outputs": [
    {
     "data": {
      "text/plain": "      budget                                             genres  \\\n0  237000000  [{\"id\": 28, \"name\": \"Action\"}, {\"id\": 12, \"nam...   \n1  300000000  [{\"id\": 12, \"name\": \"Adventure\"}, {\"id\": 14, \"...   \n2  245000000  [{\"id\": 28, \"name\": \"Action\"}, {\"id\": 12, \"nam...   \n\n                                       homepage      id  \\\n0                   http://www.avatarmovie.com/   19995   \n1  http://disney.go.com/disneypictures/pirates/     285   \n2   http://www.sonypictures.com/movies/spectre/  206647   \n\n                                            keywords original_language  \\\n0  [{\"id\": 1463, \"name\": \"culture clash\"}, {\"id\":...                en   \n1  [{\"id\": 270, \"name\": \"ocean\"}, {\"id\": 726, \"na...                en   \n2  [{\"id\": 470, \"name\": \"spy\"}, {\"id\": 818, \"name...                en   \n\n                             original_title  \\\n0                                    Avatar   \n1  Pirates of the Caribbean: At World's End   \n2                                   Spectre   \n\n                                            overview  popularity  \\\n0  In the 22nd century, a paraplegic Marine is di...  150.437577   \n1  Captain Barbossa, long believed to be dead, ha...  139.082615   \n2  A cryptic message from Bond’s past sends him o...  107.376788   \n\n                                production_companies  ... runtime  \\\n0  [{\"name\": \"Ingenious Film Partners\", \"id\": 289...  ...   162.0   \n1  [{\"name\": \"Walt Disney Pictures\", \"id\": 2}, {\"...  ...   169.0   \n2  [{\"name\": \"Columbia Pictures\", \"id\": 5}, {\"nam...  ...   148.0   \n\n                                    spoken_languages    status  \\\n0  [{\"iso_639_1\": \"en\", \"name\": \"English\"}, {\"iso...  Released   \n1           [{\"iso_639_1\": \"en\", \"name\": \"English\"}]  Released   \n2  [{\"iso_639_1\": \"fr\", \"name\": \"Fran\\u00e7ais\"},...  Released   \n\n                                          tagline  \\\n0                     Enter the World of Pandora.   \n1  At the end of the world, the adventure begins.   \n2                           A Plan No One Escapes   \n\n                                      title vote_average vote_count  \\\n0                                    Avatar          7.2      11800   \n1  Pirates of the Caribbean: At World's End          6.9       4500   \n2                                   Spectre          6.3       4466   \n\n                                                cast  \\\n0  [{\"cast_id\": 242, \"character\": \"Jake Sully\", \"...   \n1  [{\"cast_id\": 4, \"character\": \"Captain Jack Spa...   \n2  [{\"cast_id\": 1, \"character\": \"James Bond\", \"cr...   \n\n                                                crew     score  \n0  [{\"credit_id\": \"52fe48009251416c750aca23\", \"de...  7.050669  \n1  [{\"credit_id\": \"52fe4232c3a36847f800b579\", \"de...  6.665696  \n2  [{\"credit_id\": \"54805967c3a36829b5002c41\", \"de...  6.239396  \n\n[3 rows x 23 columns]",
      "text/html": "<div>\n<style scoped>\n    .dataframe tbody tr th:only-of-type {\n        vertical-align: middle;\n    }\n\n    .dataframe tbody tr th {\n        vertical-align: top;\n    }\n\n    .dataframe thead th {\n        text-align: right;\n    }\n</style>\n<table border=\"1\" class=\"dataframe\">\n  <thead>\n    <tr style=\"text-align: right;\">\n      <th></th>\n      <th>budget</th>\n      <th>genres</th>\n      <th>homepage</th>\n      <th>id</th>\n      <th>keywords</th>\n      <th>original_language</th>\n      <th>original_title</th>\n      <th>overview</th>\n      <th>popularity</th>\n      <th>production_companies</th>\n      <th>...</th>\n      <th>runtime</th>\n      <th>spoken_languages</th>\n      <th>status</th>\n      <th>tagline</th>\n      <th>title</th>\n      <th>vote_average</th>\n      <th>vote_count</th>\n      <th>cast</th>\n      <th>crew</th>\n      <th>score</th>\n    </tr>\n  </thead>\n  <tbody>\n    <tr>\n      <th>0</th>\n      <td>237000000</td>\n      <td>[{\"id\": 28, \"name\": \"Action\"}, {\"id\": 12, \"nam...</td>\n      <td>http://www.avatarmovie.com/</td>\n      <td>19995</td>\n      <td>[{\"id\": 1463, \"name\": \"culture clash\"}, {\"id\":...</td>\n      <td>en</td>\n      <td>Avatar</td>\n      <td>In the 22nd century, a paraplegic Marine is di...</td>\n      <td>150.437577</td>\n      <td>[{\"name\": \"Ingenious Film Partners\", \"id\": 289...</td>\n      <td>...</td>\n      <td>162.0</td>\n      <td>[{\"iso_639_1\": \"en\", \"name\": \"English\"}, {\"iso...</td>\n      <td>Released</td>\n      <td>Enter the World of Pandora.</td>\n      <td>Avatar</td>\n      <td>7.2</td>\n      <td>11800</td>\n      <td>[{\"cast_id\": 242, \"character\": \"Jake Sully\", \"...</td>\n      <td>[{\"credit_id\": \"52fe48009251416c750aca23\", \"de...</td>\n      <td>7.050669</td>\n    </tr>\n    <tr>\n      <th>1</th>\n      <td>300000000</td>\n      <td>[{\"id\": 12, \"name\": \"Adventure\"}, {\"id\": 14, \"...</td>\n      <td>http://disney.go.com/disneypictures/pirates/</td>\n      <td>285</td>\n      <td>[{\"id\": 270, \"name\": \"ocean\"}, {\"id\": 726, \"na...</td>\n      <td>en</td>\n      <td>Pirates of the Caribbean: At World's End</td>\n      <td>Captain Barbossa, long believed to be dead, ha...</td>\n      <td>139.082615</td>\n      <td>[{\"name\": \"Walt Disney Pictures\", \"id\": 2}, {\"...</td>\n      <td>...</td>\n      <td>169.0</td>\n      <td>[{\"iso_639_1\": \"en\", \"name\": \"English\"}]</td>\n      <td>Released</td>\n      <td>At the end of the world, the adventure begins.</td>\n      <td>Pirates of the Caribbean: At World's End</td>\n      <td>6.9</td>\n      <td>4500</td>\n      <td>[{\"cast_id\": 4, \"character\": \"Captain Jack Spa...</td>\n      <td>[{\"credit_id\": \"52fe4232c3a36847f800b579\", \"de...</td>\n      <td>6.665696</td>\n    </tr>\n    <tr>\n      <th>2</th>\n      <td>245000000</td>\n      <td>[{\"id\": 28, \"name\": \"Action\"}, {\"id\": 12, \"nam...</td>\n      <td>http://www.sonypictures.com/movies/spectre/</td>\n      <td>206647</td>\n      <td>[{\"id\": 470, \"name\": \"spy\"}, {\"id\": 818, \"name...</td>\n      <td>en</td>\n      <td>Spectre</td>\n      <td>A cryptic message from Bond’s past sends him o...</td>\n      <td>107.376788</td>\n      <td>[{\"name\": \"Columbia Pictures\", \"id\": 5}, {\"nam...</td>\n      <td>...</td>\n      <td>148.0</td>\n      <td>[{\"iso_639_1\": \"fr\", \"name\": \"Fran\\u00e7ais\"},...</td>\n      <td>Released</td>\n      <td>A Plan No One Escapes</td>\n      <td>Spectre</td>\n      <td>6.3</td>\n      <td>4466</td>\n      <td>[{\"cast_id\": 1, \"character\": \"James Bond\", \"cr...</td>\n      <td>[{\"credit_id\": \"54805967c3a36829b5002c41\", \"de...</td>\n      <td>6.239396</td>\n    </tr>\n  </tbody>\n</table>\n<p>3 rows × 23 columns</p>\n</div>"
     },
     "execution_count": 16,
     "metadata": {},
     "output_type": "execute_result"
    }
   ],
   "source": [
    "q_movies['score'] = q_movies.apply(weighted_rating, axis = 1)\n",
    "q_movies.head(3)"
   ],
   "metadata": {
    "collapsed": false,
    "pycharm": {
     "name": "#%%\n"
    }
   }
  },
  {
   "cell_type": "code",
   "execution_count": 17,
   "outputs": [
    {
     "data": {
      "text/plain": "                                              title  vote_count  vote_average  \\\n1881                       The Shawshank Redemption        8205           8.5   \n662                                      Fight Club        9413           8.3   \n65                                  The Dark Knight       12002           8.2   \n3232                                   Pulp Fiction        8428           8.3   \n96                                        Inception       13752           8.1   \n3337                                  The Godfather        5893           8.4   \n95                                     Interstellar       10867           8.1   \n809                                    Forrest Gump        7927           8.2   \n329   The Lord of the Rings: The Return of the King        8064           8.1   \n1990                        The Empire Strikes Back        5879           8.2   \n\n         score  \n1881  8.059258  \n662   7.939256  \n65    7.920020  \n3232  7.904645  \n96    7.863239  \n3337  7.851236  \n95    7.809479  \n809   7.803188  \n329   7.727243  \n1990  7.697884  ",
      "text/html": "<div>\n<style scoped>\n    .dataframe tbody tr th:only-of-type {\n        vertical-align: middle;\n    }\n\n    .dataframe tbody tr th {\n        vertical-align: top;\n    }\n\n    .dataframe thead th {\n        text-align: right;\n    }\n</style>\n<table border=\"1\" class=\"dataframe\">\n  <thead>\n    <tr style=\"text-align: right;\">\n      <th></th>\n      <th>title</th>\n      <th>vote_count</th>\n      <th>vote_average</th>\n      <th>score</th>\n    </tr>\n  </thead>\n  <tbody>\n    <tr>\n      <th>1881</th>\n      <td>The Shawshank Redemption</td>\n      <td>8205</td>\n      <td>8.5</td>\n      <td>8.059258</td>\n    </tr>\n    <tr>\n      <th>662</th>\n      <td>Fight Club</td>\n      <td>9413</td>\n      <td>8.3</td>\n      <td>7.939256</td>\n    </tr>\n    <tr>\n      <th>65</th>\n      <td>The Dark Knight</td>\n      <td>12002</td>\n      <td>8.2</td>\n      <td>7.920020</td>\n    </tr>\n    <tr>\n      <th>3232</th>\n      <td>Pulp Fiction</td>\n      <td>8428</td>\n      <td>8.3</td>\n      <td>7.904645</td>\n    </tr>\n    <tr>\n      <th>96</th>\n      <td>Inception</td>\n      <td>13752</td>\n      <td>8.1</td>\n      <td>7.863239</td>\n    </tr>\n    <tr>\n      <th>3337</th>\n      <td>The Godfather</td>\n      <td>5893</td>\n      <td>8.4</td>\n      <td>7.851236</td>\n    </tr>\n    <tr>\n      <th>95</th>\n      <td>Interstellar</td>\n      <td>10867</td>\n      <td>8.1</td>\n      <td>7.809479</td>\n    </tr>\n    <tr>\n      <th>809</th>\n      <td>Forrest Gump</td>\n      <td>7927</td>\n      <td>8.2</td>\n      <td>7.803188</td>\n    </tr>\n    <tr>\n      <th>329</th>\n      <td>The Lord of the Rings: The Return of the King</td>\n      <td>8064</td>\n      <td>8.1</td>\n      <td>7.727243</td>\n    </tr>\n    <tr>\n      <th>1990</th>\n      <td>The Empire Strikes Back</td>\n      <td>5879</td>\n      <td>8.2</td>\n      <td>7.697884</td>\n    </tr>\n  </tbody>\n</table>\n</div>"
     },
     "execution_count": 17,
     "metadata": {},
     "output_type": "execute_result"
    }
   ],
   "source": [
    "q_movies = q_movies.sort_values('score', ascending = False)\n",
    "q_movies[['title', 'vote_count', 'vote_average', 'score']].head(10)"
   ],
   "metadata": {
    "collapsed": false,
    "pycharm": {
     "name": "#%%\n"
    }
   }
  },
  {
   "cell_type": "code",
   "execution_count": 18,
   "outputs": [
    {
     "data": {
      "text/plain": "Text(0.5, 1.0, 'Popular Movies')"
     },
     "execution_count": 18,
     "metadata": {},
     "output_type": "execute_result"
    },
    {
     "data": {
      "text/plain": "<Figure size 1200x400 with 1 Axes>",
      "image/png": "[encoded data removed]"
     },
     "metadata": {},
     "output_type": "display_data"
    }
   ],
   "source": [
    "import matplotlib.pyplot as plt\n",
    "pop = df2.sort_values('popularity', ascending = False)\n",
    "plt.figure(figsize = (12,4))\n",
    "\n",
    "plt.barh(pop['title'].head(10),pop['popularity'].head(10), align = 'center', color = 'skyblue')\n",
    "plt.gca().invert_yaxis()\n",
    "plt.xlabel('Popularity')\n",
    "plt.title('Popular Movies')"
   ],
   "metadata": {
    "collapsed": false,
    "pycharm": {
     "name": "#%%\n"
    }
   }
  },
  {
   "cell_type": "markdown",
   "source": [
    "## 2. Content Based Filtering (컨텐츠 기반 필터링)"
   ],
   "metadata": {
    "collapsed": false,
    "pycharm": {
     "name": "#%% md\n"
    }
   }
  },
  {
   "cell_type": "code",
   "execution_count": 19,
   "outputs": [
    {
     "data": {
      "text/plain": "0    In the 22nd century, a paraplegic Marine is di...\n1    Captain Barbossa, long believed to be dead, ha...\n2    A cryptic message from Bond’s past sends him o...\n3    Following the death of District Attorney Harve...\n4    John Carter is a war-weary, former military ca...\nName: overview, dtype: object"
     },
     "execution_count": 19,
     "metadata": {},
     "output_type": "execute_result"
    }
   ],
   "source": [
    "df2['overview'].head(5)"
   ],
   "metadata": {
    "collapsed": false,
    "pycharm": {
     "name": "#%%\n"
    }
   }
  },
  {
   "cell_type": "markdown",
   "source": [
    "Bag Of Words - BOW"
   ],
   "metadata": {
    "collapsed": false,
    "pycharm": {
     "name": "#%% md\n"
    }
   }
  },
  {
   "cell_type": "markdown",
   "source": [
    "문장 1 : I am a boy.\n",
    "문장 2 : I am a girl.\n",
    "I(2), am(2), a(2), boy(1), girl(1)\n",
    "\n",
    "        I   am  a   boy girl\n",
    "문장      1   1   1   1   (0)     (1,1,1,1,0)\n",
    "\n",
    "피처 벡터화\n",
    "문서 100개\n",
    "모든 문서에서 나온 단어 10,000개\n",
    "\n",
    "문서1\n",
    "문서2\n",
    "문서2\n",
    "...\n",
    "문서100\n",
    "\n",
    "1. Tfidvectorizer (TR-IDF 기반 벡터화)\n",
    "2. CountVectorizer"
   ],
   "metadata": {
    "collapsed": false,
    "pycharm": {
     "name": "#%% md\n"
    }
   }
  },
  {
   "cell_type": "code",
   "execution_count": 20,
   "outputs": [],
   "source": [
    "from sklearn.feature_extraction.text import TfidfVectorizer\n",
    "tfidf = TfidfVectorizer(stop_words = 'english')"
   ],
   "metadata": {
    "collapsed": false,
    "pycharm": {
     "name": "#%%\n"
    }
   }
  },
  {
   "cell_type": "code",
   "execution_count": 21,
   "outputs": [
    {
     "data": {
      "text/plain": "frozenset({'a',\n           'about',\n           'above',\n           'across',\n           'after',\n           'afterwards',\n           'again',\n           'against',\n           'all',\n           'almost',\n           'alone',\n           'along',\n           'already',\n           'also',\n           'although',\n           'always',\n           'am',\n           'among',\n           'amongst',\n           'amoungst',\n           'amount',\n           'an',\n           'and',\n           'another',\n           'any',\n           'anyhow',\n           'anyone',\n           'anything',\n           'anyway',\n           'anywhere',\n           'are',\n           'around',\n           'as',\n           'at',\n           'back',\n           'be',\n           'became',\n           'because',\n           'become',\n           'becomes',\n           'becoming',\n           'been',\n           'before',\n           'beforehand',\n           'behind',\n           'being',\n           'below',\n           'beside',\n           'besides',\n           'between',\n           'beyond',\n           'bill',\n           'both',\n           'bottom',\n           'but',\n           'by',\n           'call',\n           'can',\n           'cannot',\n           'cant',\n           'co',\n           'con',\n           'could',\n           'couldnt',\n           'cry',\n           'de',\n           'describe',\n           'detail',\n           'do',\n           'done',\n           'down',\n           'due',\n           'during',\n           'each',\n           'eg',\n           'eight',\n           'either',\n           'eleven',\n           'else',\n           'elsewhere',\n           'empty',\n           'enough',\n           'etc',\n           'even',\n           'ever',\n           'every',\n           'everyone',\n           'everything',\n           'everywhere',\n           'except',\n           'few',\n           'fifteen',\n           'fifty',\n           'fill',\n           'find',\n           'fire',\n           'first',\n           'five',\n           'for',\n           'former',\n           'formerly',\n           'forty',\n           'found',\n           'four',\n           'from',\n           'front',\n           'full',\n           'further',\n           'get',\n           'give',\n           'go',\n           'had',\n           'has',\n           'hasnt',\n           'have',\n           'he',\n           'hence',\n           'her',\n           'here',\n           'hereafter',\n           'hereby',\n           'herein',\n           'hereupon',\n           'hers',\n           'herself',\n           'him',\n           'himself',\n           'his',\n           'how',\n           'however',\n           'hundred',\n           'i',\n           'ie',\n           'if',\n           'in',\n           'inc',\n           'indeed',\n           'interest',\n           'into',\n           'is',\n           'it',\n           'its',\n           'itself',\n           'keep',\n           'last',\n           'latter',\n           'latterly',\n           'least',\n           'less',\n           'ltd',\n           'made',\n           'many',\n           'may',\n           'me',\n           'meanwhile',\n           'might',\n           'mill',\n           'mine',\n           'more',\n           'moreover',\n           'most',\n           'mostly',\n           'move',\n           'much',\n           'must',\n           'my',\n           'myself',\n           'name',\n           'namely',\n           'neither',\n           'never',\n           'nevertheless',\n           'next',\n           'nine',\n           'no',\n           'nobody',\n           'none',\n           'noone',\n           'nor',\n           'not',\n           'nothing',\n           'now',\n           'nowhere',\n           'of',\n           'off',\n           'often',\n           'on',\n           'once',\n           'one',\n           'only',\n           'onto',\n           'or',\n           'other',\n           'others',\n           'otherwise',\n           'our',\n           'ours',\n           'ourselves',\n           'out',\n           'over',\n           'own',\n           'part',\n           'per',\n           'perhaps',\n           'please',\n           'put',\n           'rather',\n           're',\n           'same',\n           'see',\n           'seem',\n           'seemed',\n           'seeming',\n           'seems',\n           'serious',\n           'several',\n           'she',\n           'should',\n           'show',\n           'side',\n           'since',\n           'sincere',\n           'six',\n           'sixty',\n           'so',\n           'some',\n           'somehow',\n           'someone',\n           'something',\n           'sometime',\n           'sometimes',\n           'somewhere',\n           'still',\n           'such',\n           'system',\n           'take',\n           'ten',\n           'than',\n           'that',\n           'the',\n           'their',\n           'them',\n           'themselves',\n           'then',\n           'thence',\n           'there',\n           'thereafter',\n           'thereby',\n           'therefore',\n           'therein',\n           'thereupon',\n           'these',\n           'they',\n           'thick',\n           'thin',\n           'third',\n           'this',\n           'those',\n           'though',\n           'three',\n           'through',\n           'throughout',\n           'thru',\n           'thus',\n           'to',\n           'together',\n           'too',\n           'top',\n           'toward',\n           'towards',\n           'twelve',\n           'twenty',\n           'two',\n           'un',\n           'under',\n           'until',\n           'up',\n           'upon',\n           'us',\n           'very',\n           'via',\n           'was',\n           'we',\n           'well',\n           'were',\n           'what',\n           'whatever',\n           'when',\n           'whence',\n           'whenever',\n           'where',\n           'whereafter',\n           'whereas',\n           'whereby',\n           'wherein',\n           'whereupon',\n           'wherever',\n           'whether',\n           'which',\n           'while',\n           'whither',\n           'who',\n           'whoever',\n           'whole',\n           'whom',\n           'whose',\n           'why',\n           'will',\n           'with',\n           'within',\n           'without',\n           'would',\n           'yet',\n           'you',\n           'your',\n           'yours',\n           'yourself',\n           'yourselves'})"
     },
     "execution_count": 21,
     "metadata": {},
     "output_type": "execute_result"
    }
   ],
   "source": [
    "from sklearn.feature_extraction.text import ENGLISH_STOP_WORDS\n",
    "ENGLISH_STOP_WORDS"
   ],
   "metadata": {
    "collapsed": false,
    "pycharm": {
     "name": "#%%\n"
    }
   }
  },
  {
   "cell_type": "code",
   "execution_count": 22,
   "outputs": [
    {
     "data": {
      "text/plain": "True"
     },
     "execution_count": 22,
     "metadata": {},
     "output_type": "execute_result"
    }
   ],
   "source": [
    "df2['overview'].isnull().values.any()"
   ],
   "metadata": {
    "collapsed": false,
    "pycharm": {
     "name": "#%%\n"
    }
   }
  },
  {
   "cell_type": "code",
   "execution_count": 23,
   "outputs": [],
   "source": [
    "df2['overview'] = df2['overview'].fillna('')"
   ],
   "metadata": {
    "collapsed": false,
    "pycharm": {
     "name": "#%%\n"
    }
   }
  },
  {
   "cell_type": "code",
   "execution_count": 24,
   "outputs": [
    {
     "data": {
      "text/plain": "(4803, 20978)"
     },
     "execution_count": 24,
     "metadata": {},
     "output_type": "execute_result"
    }
   ],
   "source": [
    "tfidf_matrix = tfidf.fit_transform(df2['overview'])\n",
    "tfidf_matrix.shape"
   ],
   "metadata": {
    "collapsed": false,
    "pycharm": {
     "name": "#%%\n"
    }
   }
  },
  {
   "cell_type": "code",
   "execution_count": 25,
   "outputs": [
    {
     "data": {
      "text/plain": "<4803x20978 sparse matrix of type '<class 'numpy.float64'>'\n\twith 125840 stored elements in Compressed Sparse Row format>"
     },
     "execution_count": 25,
     "metadata": {},
     "output_type": "execute_result"
    }
   ],
   "source": [
    "tfidf_matrix"
   ],
   "metadata": {
    "collapsed": false,
    "pycharm": {
     "name": "#%%\n"
    }
   }
  },
  {
   "cell_type": "code",
   "execution_count": 26,
   "outputs": [
    {
     "data": {
      "text/plain": "array([[1.        , 0.        , 0.        , ..., 0.        , 0.        ,\n        0.        ],\n       [0.        , 1.        , 0.        , ..., 0.02160533, 0.        ,\n        0.        ],\n       [0.        , 0.        , 1.        , ..., 0.01488159, 0.        ,\n        0.        ],\n       ...,\n       [0.        , 0.02160533, 0.01488159, ..., 1.        , 0.01609091,\n        0.00701914],\n       [0.        , 0.        , 0.        , ..., 0.01609091, 1.        ,\n        0.01171696],\n       [0.        , 0.        , 0.        , ..., 0.00701914, 0.01171696,\n        1.        ]])"
     },
     "execution_count": 26,
     "metadata": {},
     "output_type": "execute_result"
    }
   ],
   "source": [
    "from sklearn.metrics.pairwise import linear_kernel\n",
    "\n",
    "cosine_sim = linear_kernel(tfidf_matrix, tfidf_matrix)\n",
    "cosine_sim"
   ],
   "metadata": {
    "collapsed": false,
    "pycharm": {
     "name": "#%%\n"
    }
   }
  },
  {
   "cell_type": "code",
   "execution_count": 27,
   "outputs": [
    {
     "data": {
      "text/plain": "(4803, 4803)"
     },
     "execution_count": 27,
     "metadata": {},
     "output_type": "execute_result"
    }
   ],
   "source": [
    "cosine_sim.shape"
   ],
   "metadata": {
    "collapsed": false,
    "pycharm": {
     "name": "#%%\n"
    }
   }
  },
  {
   "cell_type": "code",
   "execution_count": 28,
   "outputs": [
    {
     "data": {
      "text/plain": "title\nAvatar                                         0\nPirates of the Caribbean: At World's End       1\nSpectre                                        2\nThe Dark Knight Rises                          3\nJohn Carter                                    4\n                                            ... \nEl Mariachi                                 4798\nNewlyweds                                   4799\nSigned, Sealed, Delivered                   4800\nShanghai Calling                            4801\nMy Date with Drew                           4802\nLength: 4803, dtype: int64"
     },
     "execution_count": 28,
     "metadata": {},
     "output_type": "execute_result"
    }
   ],
   "source": [
    "indices = pd.Series(df2.index, index=df2['title']).drop_duplicates()\n",
    "indices"
   ],
   "metadata": {
    "collapsed": false,
    "pycharm": {
     "name": "#%%\n"
    }
   }
  },
  {
   "cell_type": "code",
   "execution_count": 29,
   "outputs": [
    {
     "data": {
      "text/plain": "3"
     },
     "execution_count": 29,
     "metadata": {},
     "output_type": "execute_result"
    }
   ],
   "source": [
    "indices['The Dark Knight Rises']"
   ],
   "metadata": {
    "collapsed": false,
    "pycharm": {
     "name": "#%%\n"
    }
   }
  },
  {
   "cell_type": "code",
   "execution_count": 30,
   "outputs": [
    {
     "data": {
      "text/plain": "      budget                                             genres  \\\n3  250000000  [{\"id\": 28, \"name\": \"Action\"}, {\"id\": 80, \"nam...   \n\n                             homepage     id  \\\n3  http://www.thedarkknightrises.com/  49026   \n\n                                            keywords original_language  \\\n3  [{\"id\": 849, \"name\": \"dc comics\"}, {\"id\": 853,...                en   \n\n          original_title                                           overview  \\\n3  The Dark Knight Rises  Following the death of District Attorney Harve...   \n\n   popularity                               production_companies  ...  \\\n3   112.31295  [{\"name\": \"Legendary Pictures\", \"id\": 923}, {\"...  ...   \n\n      revenue runtime                          spoken_languages    status  \\\n3  1084939099   165.0  [{\"iso_639_1\": \"en\", \"name\": \"English\"}]  Released   \n\n           tagline                  title vote_average vote_count  \\\n3  The Legend Ends  The Dark Knight Rises          7.6       9106   \n\n                                                cast  \\\n3  [{\"cast_id\": 2, \"character\": \"Bruce Wayne / Ba...   \n\n                                                crew  \n3  [{\"credit_id\": \"52fe4781c3a36847f81398c3\", \"de...  \n\n[1 rows x 22 columns]",
      "text/html": "<div>\n<style scoped>\n    .dataframe tbody tr th:only-of-type {\n        vertical-align: middle;\n    }\n\n    .dataframe tbody tr th {\n        vertical-align: top;\n    }\n\n    .dataframe thead th {\n        text-align: right;\n    }\n</style>\n<table border=\"1\" class=\"dataframe\">\n  <thead>\n    <tr style=\"text-align: right;\">\n      <th></th>\n      <th>budget</th>\n      <th>genres</th>\n      <th>homepage</th>\n      <th>id</th>\n      <th>keywords</th>\n      <th>original_language</th>\n      <th>original_title</th>\n      <th>overview</th>\n      <th>popularity</th>\n      <th>production_companies</th>\n      <th>...</th>\n      <th>revenue</th>\n      <th>runtime</th>\n      <th>spoken_languages</th>\n      <th>status</th>\n      <th>tagline</th>\n      <th>title</th>\n      <th>vote_average</th>\n      <th>vote_count</th>\n      <th>cast</th>\n      <th>crew</th>\n    </tr>\n  </thead>\n  <tbody>\n    <tr>\n      <th>3</th>\n      <td>250000000</td>\n      <td>[{\"id\": 28, \"name\": \"Action\"}, {\"id\": 80, \"nam...</td>\n      <td>http://www.thedarkknightrises.com/</td>\n      <td>49026</td>\n      <td>[{\"id\": 849, \"name\": \"dc comics\"}, {\"id\": 853,...</td>\n      <td>en</td>\n      <td>The Dark Knight Rises</td>\n      <td>Following the death of District Attorney Harve...</td>\n      <td>112.31295</td>\n      <td>[{\"name\": \"Legendary Pictures\", \"id\": 923}, {\"...</td>\n      <td>...</td>\n      <td>1084939099</td>\n      <td>165.0</td>\n      <td>[{\"iso_639_1\": \"en\", \"name\": \"English\"}]</td>\n      <td>Released</td>\n      <td>The Legend Ends</td>\n      <td>The Dark Knight Rises</td>\n      <td>7.6</td>\n      <td>9106</td>\n      <td>[{\"cast_id\": 2, \"character\": \"Bruce Wayne / Ba...</td>\n      <td>[{\"credit_id\": \"52fe4781c3a36847f81398c3\", \"de...</td>\n    </tr>\n  </tbody>\n</table>\n<p>1 rows × 22 columns</p>\n</div>"
     },
     "execution_count": 30,
     "metadata": {},
     "output_type": "execute_result"
    }
   ],
   "source": [
    "df2.iloc[[3]]"
   ],
   "metadata": {
    "collapsed": false,
    "pycharm": {
     "name": "#%%\n"
    }
   }
  },
  {
   "cell_type": "code",
   "execution_count": 31,
   "outputs": [],
   "source": [
    "# 영화의 제목을 입력받으면 코사인 유사도를 통해서 가장 유사도가 높은 상위 10개의 영화 목록 반환\n",
    "def get_recommendations(title, cosine_sim = cosine_sim):\n",
    "    # 영화 제목을 통해 전체 데이터 기준 그 영화의 index 값을 얻기\n",
    "    idx = indices[title]\n",
    "\n",
    "    # 코사인 유사도 매트릭스 (cosine_sim)에서 idx에 해당하는 데이터를 (idx, 유사도) 형태로 얻기\n",
    "    sim_scores = list(enumerate(cosine_sim[idx]))\n",
    "\n",
    "    # 코사인 유사도 기준으로 내림차순 정렬\n",
    "    sim_scores = sorted(sim_scores, key = lambda x: x[1], reverse = True)\n",
    "\n",
    "    # 자기 자신을 제외한 10개의 추천 영화를 슬라이싱\n",
    "    sim_scores = sim_scores[1:11]\n",
    "    # 추천 영화 목록 10개의 인덱스 정보 추출\n",
    "    movie_indices = [i[0] for i in sim_scores]\n",
    "\n",
    "    # 인덱스 정보 통해 영화 제목 추출\n",
    "    return df2['title'].iloc[movie_indices]"
   ],
   "metadata": {
    "collapsed": false,
    "pycharm": {
     "name": "#%%\n"
    }
   }
  },
  {
   "cell_type": "code",
   "execution_count": 32,
   "outputs": [
    {
     "data": {
      "text/plain": "3"
     },
     "execution_count": 32,
     "metadata": {},
     "output_type": "execute_result"
    }
   ],
   "source": [
    "test_idx = indices['The Dark Knight Rises']    # 영화 제목을 통해 전체 데이터 기준 그 영화의 index 값을 얻기\n",
    "test_idx"
   ],
   "metadata": {
    "collapsed": false,
    "pycharm": {
     "name": "#%%\n"
    }
   }
  },
  {
   "cell_type": "code",
   "execution_count": 33,
   "outputs": [
    {
     "data": {
      "text/plain": "array([0.02499512, 0.        , 0.        , ..., 0.03386366, 0.04275232,\n       0.02269198])"
     },
     "execution_count": 33,
     "metadata": {},
     "output_type": "execute_result"
    }
   ],
   "source": [
    "cosine_sim[3]"
   ],
   "metadata": {
    "collapsed": false,
    "pycharm": {
     "name": "#%%\n"
    }
   }
  },
  {
   "cell_type": "code",
   "execution_count": 34,
   "outputs": [],
   "source": [
    "test_sim_scores = list(enumerate(cosine_sim[3]))    # 코사인 유사도 매트릭스 (cosine_sim)에서 idx에 해당하는 데이터를 (idx, 유사도) 형태로 얻기"
   ],
   "metadata": {
    "collapsed": false,
    "pycharm": {
     "name": "#%%\n"
    }
   }
  },
  {
   "cell_type": "code",
   "execution_count": 35,
   "outputs": [
    {
     "data": {
      "text/plain": "[(65, 0.30151176591665485),\n (299, 0.29857045255396825),\n (428, 0.2878505467001694),\n (1359, 0.264460923827995),\n (3854, 0.18545003006561456),\n (119, 0.16799626199850706),\n (2507, 0.16682891043358278),\n (9, 0.1337400906655523),\n (1181, 0.13219702138476813),\n (210, 0.13045537014449818)]"
     },
     "execution_count": 35,
     "metadata": {},
     "output_type": "execute_result"
    }
   ],
   "source": [
    "test_sim_scores = sorted(test_sim_scores, key = lambda x: x[1], reverse = True)    # 코사인 유사도 기준으로 내림차순 정렬\n",
    "test_sim_scores[1:11]    # 자기 자신을 제외한 10개의 추천 영화를 슬라이싱"
   ],
   "metadata": {
    "collapsed": false,
    "pycharm": {
     "name": "#%%\n"
    }
   }
  },
  {
   "cell_type": "code",
   "execution_count": 36,
   "outputs": [
    {
     "data": {
      "text/plain": "[3,\n 65,\n 299,\n 428,\n 1359,\n 3854,\n 119,\n 2507,\n 9,\n 1181,\n 210,\n 879,\n 2193,\n 1398,\n 2416,\n 1068,\n 979,\n 1202,\n 790,\n 2274,\n 1766,\n 1143,\n 1698,\n 1492,\n 1349,\n 286,\n 4649,\n 590,\n 2094,\n 2850,\n 614,\n 1984,\n 2035,\n 1246,\n 2638,\n 3819,\n 647,\n 3178,\n 1524,\n 777,\n 3942,\n 1051,\n 4781,\n 668,\n 1253,\n 4404,\n 3914,\n 3306,\n 1627,\n 160,\n 3714,\n 238,\n 1432,\n 884,\n 1230,\n 136,\n 3586,\n 3668,\n 166,\n 198,\n 1318,\n 2270,\n 602,\n 2240,\n 672,\n 771,\n 189,\n 3990,\n 1554,\n 992,\n 1894,\n 2008,\n 3048,\n 975,\n 1177,\n 3318,\n 615,\n 56,\n 2585,\n 1274,\n 4480,\n 281,\n 1491,\n 3622,\n 1488,\n 170,\n 2781,\n 1124,\n 1515,\n 2874,\n 2247,\n 909,\n 2402,\n 3873,\n 3823,\n 449,\n 1412,\n 275,\n 1664,\n 4680,\n 1009,\n 3595,\n 139,\n 2615,\n 3783,\n 4699,\n 4087,\n 968,\n 3907,\n 3568,\n 2479,\n 854,\n 1322,\n 4340,\n 2141,\n 304,\n 4767,\n 442,\n 820,\n 4801,\n 2632,\n 3004,\n 3739,\n 4569,\n 3591,\n 392,\n 807,\n 2308,\n 3976,\n 4667,\n 172,\n 2875,\n 2455,\n 3927,\n 154,\n 1037,\n 1247,\n 1717,\n 761,\n 4369,\n 576,\n 3035,\n 1209,\n 3857,\n 296,\n 3607,\n 262,\n 2033,\n 85,\n 369,\n 1644,\n 1228,\n 342,\n 359,\n 4576,\n 2823,\n 1490,\n 797,\n 1275,\n 179,\n 3895,\n 589,\n 805,\n 2384,\n 4610,\n 1201,\n 1265,\n 4682,\n 246,\n 3545,\n 782,\n 3191,\n 1146,\n 389,\n 4123,\n 212,\n 3666,\n 215,\n 529,\n 3159,\n 1449,\n 4133,\n 3464,\n 4446,\n 1588,\n 3198,\n 1653,\n 2860,\n 4648,\n 1480,\n 2622,\n 1553,\n 598,\n 1083,\n 4248,\n 2283,\n 1401,\n 3874,\n 1369,\n 3563,\n 4127,\n 4060,\n 324,\n 802,\n 695,\n 4715,\n 1764,\n 962,\n 1233,\n 2434,\n 4621,\n 1387,\n 1433,\n 2223,\n 2736,\n 321,\n 2428,\n 4800,\n 2474,\n 1418,\n 3294,\n 4502,\n 737,\n 3728,\n 21,\n 1965,\n 2177,\n 3604,\n 3706,\n 669,\n 2490,\n 1535,\n 4314,\n 1952,\n 2977,\n 2399,\n 2065,\n 3155,\n 981,\n 1070,\n 3935,\n 91,\n 674,\n 873,\n 192,\n 1742,\n 4353,\n 1237,\n 3529,\n 469,\n 1663,\n 236,\n 1727,\n 866,\n 2038,\n 2526,\n 1229,\n 3166,\n 4571,\n 307,\n 2606,\n 4119,\n 4754,\n 2010,\n 574,\n 561,\n 3733,\n 1548,\n 943,\n 2444,\n 3240,\n 870,\n 2548,\n 1205,\n 3304,\n 569,\n 3056,\n 38,\n 4566,\n 3031,\n 4339,\n 4145,\n 3344,\n 2366,\n 3667,\n 3395,\n 717,\n 1231,\n 1335,\n 3902,\n 502,\n 31,\n 892,\n 2046,\n 1357,\n 1740,\n 3062,\n 370,\n 3677,\n 1382,\n 694,\n 283,\n 1817,\n 116,\n 4161,\n 1426,\n 4071,\n 4675,\n 4317,\n 4193,\n 3845,\n 1468,\n 1414,\n 1105,\n 168,\n 4195,\n 3493,\n 2323,\n 376,\n 486,\n 1525,\n 242,\n 2723,\n 3936,\n 4131,\n 2988,\n 511,\n 36,\n 50,\n 4466,\n 182,\n 1431,\n 472,\n 2144,\n 4280,\n 3343,\n 400,\n 2649,\n 130,\n 2889,\n 3872,\n 3804,\n 2813,\n 1826,\n 2529,\n 1754,\n 1714,\n 3560,\n 123,\n 4208,\n 1119,\n 1064,\n 985,\n 607,\n 4297,\n 2289,\n 2319,\n 3107,\n 937,\n 1481,\n 7,\n 2586,\n 4337,\n 3933,\n 1533,\n 3104,\n 3549,\n 290,\n 582,\n 2097,\n 1399,\n 3672,\n 2426,\n 58,\n 4328,\n 1943,\n 3084,\n 3742,\n 1043,\n 272,\n 153,\n 4366,\n 3214,\n 1016,\n 2543,\n 1769,\n 549,\n 4445,\n 29,\n 2513,\n 1419,\n 3694,\n 755,\n 3378,\n 3290,\n 3937,\n 3206,\n 934,\n 1892,\n 912,\n 4407,\n 4165,\n 1236,\n 2147,\n 1601,\n 2898,\n 401,\n 1802,\n 627,\n 97,\n 1287,\n 1786,\n 1249,\n 4143,\n 4284,\n 2388,\n 3569,\n 351,\n 0,\n 1955,\n 1938,\n 583,\n 3117,\n 3447,\n 2043,\n 355,\n 3385,\n 2336,\n 1946,\n 2345,\n 2154,\n 2561,\n 3150,\n 4066,\n 1559,\n 4175,\n 4647,\n 1360,\n 2686,\n 3747,\n 2068,\n 3241,\n 3491,\n 93,\n 4555,\n 3656,\n 419,\n 2819,\n 169,\n 3469,\n 2662,\n 86,\n 1323,\n 1606,\n 958,\n 2940,\n 209,\n 3579,\n 3020,\n 2605,\n 4688,\n 2302,\n 1867,\n 1103,\n 2779,\n 4219,\n 225,\n 4666,\n 3314,\n 3015,\n 1904,\n 4021,\n 4748,\n 3116,\n 2553,\n 3632,\n 279,\n 2079,\n 724,\n 4557,\n 1232,\n 424,\n 415,\n 4673,\n 3260,\n 3846,\n 405,\n 3592,\n 2190,\n 4802,\n 4765,\n 3312,\n 1327,\n 1153,\n 2951,\n 3126,\n 4332,\n 787,\n 734,\n 570,\n 1893,\n 1765,\n 2017,\n 4151,\n 230,\n 4685,\n 4389,\n 942,\n 1176,\n 3292,\n 3958,\n 4168,\n 803,\n 3110,\n 731,\n 2304,\n 1171,\n 4554,\n 4065,\n 3386,\n 2464,\n 4517,\n 3482,\n 1204,\n 224,\n 4236,\n 3326,\n 799,\n 3024,\n 2413,\n 1783,\n 2212,\n 3948,\n 2782,\n 3888,\n 4138,\n 3984,\n 3479,\n 976,\n 32,\n 1744,\n 4360,\n 3105,\n 3540,\n 1713,\n 3199,\n 1078,\n 1067,\n 1685,\n 4224,\n 3170,\n 730,\n 1798,\n 3322,\n 3239,\n 3834,\n 1634,\n 2517,\n 1959,\n 1427,\n 2209,\n 4786,\n 16,\n 4258,\n 41,\n 2081,\n 4114,\n 2168,\n 1278,\n 1058,\n 4674,\n 1483,\n 4479,\n 4322,\n 2339,\n 108,\n 1479,\n 4450,\n 3537,\n 2878,\n 2981,\n 8,\n 3828,\n 4772,\n 2663,\n 1580,\n 4496,\n 1758,\n 1895,\n 3616,\n 628,\n 632,\n 80,\n 2146,\n 3598,\n 4572,\n 670,\n 4581,\n 3869,\n 4031,\n 3980,\n 2817,\n 2109,\n 1299,\n 1830,\n 1733,\n 2535,\n 1100,\n 3709,\n 1413,\n 2377,\n 3680,\n 528,\n 3029,\n 94,\n 4432,\n 1633,\n 2403,\n 1463,\n 2152,\n 1079,\n 2584,\n 4216,\n 3910,\n 1872,\n 2011,\n 4506,\n 2166,\n 1912,\n 4669,\n 1694,\n 4352,\n 1161,\n 1339,\n 564,\n 904,\n 4664,\n 810,\n 3008,\n 3554,\n 2655,\n 148,\n 1264,\n 4074,\n 24,\n 4408,\n 2496,\n 2259,\n 3140,\n 690,\n 2295,\n 288,\n 3223,\n 2300,\n 26,\n 485,\n 1514,\n 1029,\n 1993,\n 1609,\n 1224,\n 4326,\n 894,\n 3187,\n 4556,\n 1485,\n 605,\n 2096,\n 4578,\n 4098,\n 3128,\n 3394,\n 2335,\n 157,\n 4533,\n 740,\n 2815,\n 2673,\n 77,\n 1860,\n 980,\n 2921,\n 4379,\n 2499,\n 3634,\n 180,\n 3929,\n 3843,\n 956,\n 1608,\n 3839,\n 4150,\n 1309,\n 1223,\n 3487,\n 2230,\n 1030,\n 3109,\n 3202,\n 3423,\n 121,\n 1373,\n 4746,\n 126,\n 1841,\n 1087,\n 4253,\n 1141,\n 4089,\n 1429,\n 30,\n 4622,\n 2427,\n 1420,\n 1158,\n 3627,\n 171,\n 2489,\n 276,\n 1851,\n 3280,\n 173,\n 102,\n 4235,\n 2314,\n 2390,\n 1887,\n 3325,\n 25,\n 3643,\n 1813,\n 1839,\n 425,\n 2020,\n 3483,\n 2774,\n 580,\n 611,\n 606,\n 2239,\n 4252,\n 1852,\n 398,\n 1200,\n 2374,\n 4348,\n 1453,\n 4106,\n 2857,\n 1931,\n 2092,\n 3112,\n 971,\n 2789,\n 788,\n 4049,\n 1816,\n 2361,\n 834,\n 1196,\n 1585,\n 3760,\n 4553,\n 2980,\n 3967,\n 329,\n 2246,\n 2780,\n 3717,\n 52,\n 833,\n 3534,\n 2468,\n 3864,\n 3486,\n 3093,\n 4008,\n 1301,\n 2142,\n 2885,\n 4392,\n 3074,\n 1443,\n 3966,\n 3416,\n 1188,\n 3189,\n 1924,\n 2216,\n 4196,\n 842,\n 4529,\n 2465,\n 2237,\n 1144,\n 4176,\n 3923,\n 2831,\n 2310,\n 2930,\n 3506,\n 4739,\n 2088,\n 147,\n 1374,\n 967,\n 2255,\n 4579,\n 1597,\n 217,\n 122,\n 3005,\n 229,\n 2445,\n 1082,\n 4265,\n 4495,\n 1772,\n 1186,\n 3411,\n 2786,\n 3057,\n 2408,\n 1222,\n 2250,\n 698,\n 1133,\n 440,\n 586,\n 1667,\n 1656,\n 3947,\n 1735,\n 1586,\n 113,\n 2532,\n 4684,\n 2645,\n 4034,\n 2897,\n 3305,\n 779,\n 4429,\n 1879,\n 2957,\n 3803,\n 2569,\n 1974,\n 3938,\n 4595,\n 426,\n 53,\n 3885,\n 4368,\n 1421,\n 456,\n 1555,\n 1854,\n 2026,\n 3732,\n 2136,\n 2966,\n 127,\n 849,\n 280,\n 103,\n 1238,\n 4758,\n 1457,\n 2695,\n 538,\n 907,\n 2288,\n 4316,\n 1019,\n 874,\n 2545,\n 397,\n 1036,\n 1396,\n 2048,\n 503,\n 2248,\n 3795,\n 1538,\n 4212,\n 1935,\n 930,\n 285,\n 3777,\n 2405,\n 4064,\n 2701,\n 1035,\n 3111,\n 2883,\n 600,\n 3086,\n 3503,\n 551,\n 785,\n 2938,\n 4220,\n 2961,\n 2359,\n 3335,\n 919,\n 1746,\n 2369,\n 357,\n 1902,\n 3688,\n 3311,\n 277,\n 2809,\n 4080,\n 92,\n 622,\n 4217,\n 784,\n 3685,\n 4568,\n 1747,\n 3920,\n 3157,\n 2902,\n 4179,\n 4251,\n 1566,\n 274,\n 4230,\n 513,\n 4763,\n 3744,\n 1626,\n 1022,\n 2546,\n 339,\n 2160,\n 2795,\n 2959,\n 4077,\n 2610,\n 657,\n 2220,\n 439,\n 4292,\n 1705,\n 2688,\n 3229,\n 256,\n 4497,\n 4272,\n 3944,\n 1042,\n 2015,\n 658,\n 4009,\n 2201,\n 932,\n 2380,\n 2125,\n 2186,\n 4658,\n 3926,\n 1999,\n 2996,\n 4276,\n 3831,\n 4644,\n 1297,\n 2841,\n 2222,\n 2280,\n 3064,\n 3547,\n 2506,\n 3363,\n 3299,\n 1268,\n 478,\n 1788,\n 4653,\n 3129,\n 876,\n 1508,\n 2600,\n 2637,\n 4136,\n 2064,\n 421,\n 4163,\n 1220,\n 4147,\n 982,\n 3364,\n 3918,\n 1990,\n 4118,\n 4164,\n ...]"
     },
     "execution_count": 36,
     "metadata": {},
     "output_type": "execute_result"
    }
   ],
   "source": [
    "# 추천 영화 목록 10개의 인덱스 정보 추출\n",
    "test_movie_indices = [i[0] for i in test_sim_scores]\n",
    "test_movie_indices"
   ],
   "metadata": {
    "collapsed": false,
    "pycharm": {
     "name": "#%%\n"
    }
   }
  },
  {
   "cell_type": "code",
   "execution_count": 37,
   "outputs": [
    {
     "data": {
      "text/plain": "3       The Dark Knight Rises\n65            The Dark Knight\n299            Batman Forever\n428            Batman Returns\n1359                   Batman\n                ...          \n4795                     Bang\n4796                   Primer\n4797                   Cavite\n4798              El Mariachi\n4799                Newlyweds\nName: title, Length: 4803, dtype: object"
     },
     "execution_count": 37,
     "metadata": {},
     "output_type": "execute_result"
    }
   ],
   "source": [
    "# 인덱스 정보 통해 영화 제목 추출\n",
    "df2['title'].iloc[test_movie_indices]"
   ],
   "metadata": {
    "collapsed": false,
    "pycharm": {
     "name": "#%%\n"
    }
   }
  },
  {
   "cell_type": "code",
   "execution_count": 38,
   "outputs": [
    {
     "data": {
      "text/plain": "3524                                  [REC]²\n3987                      Young Frankenstein\n975                        The International\n809                             Forrest Gump\n1698                       The Rugrats Movie\n4199                                     Yes\n4030               The Other End of the Line\n2427    The Adventures of Elmo in Grouchland\n2390                               Red Sonja\n1948                       Little White Lies\n4569                          Mutual Friends\n2799                      Dancer in the Dark\n2036                        Saving Silverman\n3543                         Rang De Basanti\n3901           Pokémon: Spell of the Unknown\n1100                   Johnny English Reborn\n4262                   Incident at Loch Ness\n3412                                   Shade\n2994                    Recess: School's Out\n1792                             Pain & Gain\nName: title, dtype: object"
     },
     "execution_count": 38,
     "metadata": {},
     "output_type": "execute_result"
    }
   ],
   "source": [
    "df2['title'].sample(20)"
   ],
   "metadata": {
    "collapsed": false,
    "pycharm": {
     "name": "#%%\n"
    }
   }
  },
  {
   "cell_type": "code",
   "execution_count": 39,
   "outputs": [
    {
     "data": {
      "text/plain": "1007                      Anna Karenina\n3147                            Re-Kill\n2831                         Quarantine\n4199                                Yes\n70                       Wild Wild West\n2098                              Tammy\n263         Around the World in 80 Days\n3227    The Wind That Shakes the Barley\n2293                        The Crazies\n771                           Dragonfly\nName: title, dtype: object"
     },
     "execution_count": 39,
     "metadata": {},
     "output_type": "execute_result"
    }
   ],
   "source": [
    "get_recommendations('The Painted Veil')"
   ],
   "metadata": {
    "collapsed": false,
    "pycharm": {
     "name": "#%%\n"
    }
   }
  },
  {
   "cell_type": "code",
   "execution_count": 40,
   "outputs": [
    {
     "data": {
      "text/plain": "2276     The Painted Veil\n3754                Scoop\n3587             Addicted\n2299            Leap Year\n3999                  Ida\n70         Wild Wild West\n4354            Departure\n1763          The Duchess\n2756      Crazy/Beautiful\n536     Anna and the King\nName: title, dtype: object"
     },
     "execution_count": 40,
     "metadata": {},
     "output_type": "execute_result"
    }
   ],
   "source": [
    "get_recommendations('Anna Karenina')"
   ],
   "metadata": {
    "collapsed": false,
    "pycharm": {
     "name": "#%%\n"
    }
   }
  },
  {
   "cell_type": "markdown",
   "source": [
    "### 다양한 요소 기반 추천(장르, 감독, 키워드 등)"
   ],
   "metadata": {
    "collapsed": false,
    "pycharm": {
     "name": "#%% md\n"
    }
   }
  },
  {
   "cell_type": "code",
   "execution_count": 41,
   "outputs": [
    {
     "data": {
      "text/plain": "      budget                                             genres  \\\n0  237000000  [{\"id\": 28, \"name\": \"Action\"}, {\"id\": 12, \"nam...   \n1  300000000  [{\"id\": 12, \"name\": \"Adventure\"}, {\"id\": 14, \"...   \n2  245000000  [{\"id\": 28, \"name\": \"Action\"}, {\"id\": 12, \"nam...   \n\n                                       homepage      id  \\\n0                   http://www.avatarmovie.com/   19995   \n1  http://disney.go.com/disneypictures/pirates/     285   \n2   http://www.sonypictures.com/movies/spectre/  206647   \n\n                                            keywords original_language  \\\n0  [{\"id\": 1463, \"name\": \"culture clash\"}, {\"id\":...                en   \n1  [{\"id\": 270, \"name\": \"ocean\"}, {\"id\": 726, \"na...                en   \n2  [{\"id\": 470, \"name\": \"spy\"}, {\"id\": 818, \"name...                en   \n\n                             original_title  \\\n0                                    Avatar   \n1  Pirates of the Caribbean: At World's End   \n2                                   Spectre   \n\n                                            overview  popularity  \\\n0  In the 22nd century, a paraplegic Marine is di...  150.437577   \n1  Captain Barbossa, long believed to be dead, ha...  139.082615   \n2  A cryptic message from Bond’s past sends him o...  107.376788   \n\n                                production_companies  ...     revenue runtime  \\\n0  [{\"name\": \"Ingenious Film Partners\", \"id\": 289...  ...  2787965087   162.0   \n1  [{\"name\": \"Walt Disney Pictures\", \"id\": 2}, {\"...  ...   961000000   169.0   \n2  [{\"name\": \"Columbia Pictures\", \"id\": 5}, {\"nam...  ...   880674609   148.0   \n\n                                    spoken_languages    status  \\\n0  [{\"iso_639_1\": \"en\", \"name\": \"English\"}, {\"iso...  Released   \n1           [{\"iso_639_1\": \"en\", \"name\": \"English\"}]  Released   \n2  [{\"iso_639_1\": \"fr\", \"name\": \"Fran\\u00e7ais\"},...  Released   \n\n                                          tagline  \\\n0                     Enter the World of Pandora.   \n1  At the end of the world, the adventure begins.   \n2                           A Plan No One Escapes   \n\n                                      title vote_average vote_count  \\\n0                                    Avatar          7.2      11800   \n1  Pirates of the Caribbean: At World's End          6.9       4500   \n2                                   Spectre          6.3       4466   \n\n                                                cast  \\\n0  [{\"cast_id\": 242, \"character\": \"Jake Sully\", \"...   \n1  [{\"cast_id\": 4, \"character\": \"Captain Jack Spa...   \n2  [{\"cast_id\": 1, \"character\": \"James Bond\", \"cr...   \n\n                                                crew  \n0  [{\"credit_id\": \"52fe48009251416c750aca23\", \"de...  \n1  [{\"credit_id\": \"52fe4232c3a36847f800b579\", \"de...  \n2  [{\"credit_id\": \"54805967c3a36829b5002c41\", \"de...  \n\n[3 rows x 22 columns]",
      "text/html": "<div>\n<style scoped>\n    .dataframe tbody tr th:only-of-type {\n        vertical-align: middle;\n    }\n\n    .dataframe tbody tr th {\n        vertical-align: top;\n    }\n\n    .dataframe thead th {\n        text-align: right;\n    }\n</style>\n<table border=\"1\" class=\"dataframe\">\n  <thead>\n    <tr style=\"text-align: right;\">\n      <th></th>\n      <th>budget</th>\n      <th>genres</th>\n      <th>homepage</th>\n      <th>id</th>\n      <th>keywords</th>\n      <th>original_language</th>\n      <th>original_title</th>\n      <th>overview</th>\n      <th>popularity</th>\n      <th>production_companies</th>\n      <th>...</th>\n      <th>revenue</th>\n      <th>runtime</th>\n      <th>spoken_languages</th>\n      <th>status</th>\n      <th>tagline</th>\n      <th>title</th>\n      <th>vote_average</th>\n      <th>vote_count</th>\n      <th>cast</th>\n      <th>crew</th>\n    </tr>\n  </thead>\n  <tbody>\n    <tr>\n      <th>0</th>\n      <td>237000000</td>\n      <td>[{\"id\": 28, \"name\": \"Action\"}, {\"id\": 12, \"nam...</td>\n      <td>http://www.avatarmovie.com/</td>\n      <td>19995</td>\n      <td>[{\"id\": 1463, \"name\": \"culture clash\"}, {\"id\":...</td>\n      <td>en</td>\n      <td>Avatar</td>\n      <td>In the 22nd century, a paraplegic Marine is di...</td>\n      <td>150.437577</td>\n      <td>[{\"name\": \"Ingenious Film Partners\", \"id\": 289...</td>\n      <td>...</td>\n      <td>2787965087</td>\n      <td>162.0</td>\n      <td>[{\"iso_639_1\": \"en\", \"name\": \"English\"}, {\"iso...</td>\n      <td>Released</td>\n      <td>Enter the World of Pandora.</td>\n      <td>Avatar</td>\n      <td>7.2</td>\n      <td>11800</td>\n      <td>[{\"cast_id\": 242, \"character\": \"Jake Sully\", \"...</td>\n      <td>[{\"credit_id\": \"52fe48009251416c750aca23\", \"de...</td>\n    </tr>\n    <tr>\n      <th>1</th>\n      <td>300000000</td>\n      <td>[{\"id\": 12, \"name\": \"Adventure\"}, {\"id\": 14, \"...</td>\n      <td>http://disney.go.com/disneypictures/pirates/</td>\n      <td>285</td>\n      <td>[{\"id\": 270, \"name\": \"ocean\"}, {\"id\": 726, \"na...</td>\n      <td>en</td>\n      <td>Pirates of the Caribbean: At World's End</td>\n      <td>Captain Barbossa, long believed to be dead, ha...</td>\n      <td>139.082615</td>\n      <td>[{\"name\": \"Walt Disney Pictures\", \"id\": 2}, {\"...</td>\n      <td>...</td>\n      <td>961000000</td>\n      <td>169.0</td>\n      <td>[{\"iso_639_1\": \"en\", \"name\": \"English\"}]</td>\n      <td>Released</td>\n      <td>At the end of the world, the adventure begins.</td>\n      <td>Pirates of the Caribbean: At World's End</td>\n      <td>6.9</td>\n      <td>4500</td>\n      <td>[{\"cast_id\": 4, \"character\": \"Captain Jack Spa...</td>\n      <td>[{\"credit_id\": \"52fe4232c3a36847f800b579\", \"de...</td>\n    </tr>\n    <tr>\n      <th>2</th>\n      <td>245000000</td>\n      <td>[{\"id\": 28, \"name\": \"Action\"}, {\"id\": 12, \"nam...</td>\n      <td>http://www.sonypictures.com/movies/spectre/</td>\n      <td>206647</td>\n      <td>[{\"id\": 470, \"name\": \"spy\"}, {\"id\": 818, \"name...</td>\n      <td>en</td>\n      <td>Spectre</td>\n      <td>A cryptic message from Bond’s past sends him o...</td>\n      <td>107.376788</td>\n      <td>[{\"name\": \"Columbia Pictures\", \"id\": 5}, {\"nam...</td>\n      <td>...</td>\n      <td>880674609</td>\n      <td>148.0</td>\n      <td>[{\"iso_639_1\": \"fr\", \"name\": \"Fran\\u00e7ais\"},...</td>\n      <td>Released</td>\n      <td>A Plan No One Escapes</td>\n      <td>Spectre</td>\n      <td>6.3</td>\n      <td>4466</td>\n      <td>[{\"cast_id\": 1, \"character\": \"James Bond\", \"cr...</td>\n      <td>[{\"credit_id\": \"54805967c3a36829b5002c41\", \"de...</td>\n    </tr>\n  </tbody>\n</table>\n<p>3 rows × 22 columns</p>\n</div>"
     },
     "execution_count": 41,
     "metadata": {},
     "output_type": "execute_result"
    }
   ],
   "source": [
    "df2.head(3)"
   ],
   "metadata": {
    "collapsed": false,
    "pycharm": {
     "name": "#%%\n"
    }
   }
  },
  {
   "cell_type": "code",
   "execution_count": 42,
   "outputs": [
    {
     "data": {
      "text/plain": "'[{\"id\": 28, \"name\": \"Action\"}, {\"id\": 12, \"name\": \"Adventure\"}, {\"id\": 14, \"name\": \"Fantasy\"}, {\"id\": 878, \"name\": \"Science Fiction\"}]'"
     },
     "execution_count": 42,
     "metadata": {},
     "output_type": "execute_result"
    }
   ],
   "source": [
    "df2.loc[0, 'genres']    # list형"
   ],
   "metadata": {
    "collapsed": false,
    "pycharm": {
     "name": "#%%\n"
    }
   }
  },
  {
   "cell_type": "code",
   "execution_count": 44,
   "outputs": [],
   "source": [
    "s1 = [{'id':28, 'name' : 'Action'}]\n",
    "s2 = '[{\"id\": 28, \"name\": \"Action\"}]'"
   ],
   "metadata": {
    "collapsed": false,
    "pycharm": {
     "name": "#%%\n"
    }
   }
  },
  {
   "cell_type": "code",
   "execution_count": 45,
   "outputs": [
    {
     "data": {
      "text/plain": "(list, str)"
     },
     "execution_count": 45,
     "metadata": {},
     "output_type": "execute_result"
    }
   ],
   "source": [
    "type(s1), type(s2)"
   ],
   "metadata": {
    "collapsed": false,
    "pycharm": {
     "name": "#%%\n"
    }
   }
  },
  {
   "cell_type": "code",
   "execution_count": 46,
   "outputs": [
    {
     "data": {
      "text/plain": "([{'id': 28, 'name': 'Action'}], list)"
     },
     "execution_count": 46,
     "metadata": {},
     "output_type": "execute_result"
    }
   ],
   "source": [
    "from ast import literal_eval\n",
    "s2 = literal_eval(s2)\n",
    "s2 , type(s2)"
   ],
   "metadata": {
    "collapsed": false,
    "pycharm": {
     "name": "#%%\n"
    }
   }
  },
  {
   "cell_type": "code",
   "execution_count": 47,
   "outputs": [
    {
     "name": "stdout",
     "output_type": "stream",
     "text": [
      "[{'id': 28, 'name': 'Action'}]\n",
      "[{'id': 28, 'name': 'Action'}]\n"
     ]
    }
   ],
   "source": [
    "print(s1)\n",
    "print(s2)"
   ],
   "metadata": {
    "collapsed": false,
    "pycharm": {
     "name": "#%%\n"
    }
   }
  },
  {
   "cell_type": "code",
   "execution_count": 48,
   "outputs": [],
   "source": [
    "features = ['cast', 'crew', 'keywords', 'genres']\n",
    "for feature in features:\n",
    "    df2[feature] = df2[feature].apply(literal_eval)"
   ],
   "metadata": {
    "collapsed": false,
    "pycharm": {
     "name": "#%%\n"
    }
   }
  },
  {
   "cell_type": "code",
   "execution_count": 49,
   "outputs": [
    {
     "data": {
      "text/plain": "[{'credit_id': '52fe48009251416c750aca23',\n  'department': 'Editing',\n  'gender': 0,\n  'id': 1721,\n  'job': 'Editor',\n  'name': 'Stephen E. Rivkin'},\n {'credit_id': '539c47ecc3a36810e3001f87',\n  'department': 'Art',\n  'gender': 2,\n  'id': 496,\n  'job': 'Production Design',\n  'name': 'Rick Carter'},\n {'credit_id': '54491c89c3a3680fb4001cf7',\n  'department': 'Sound',\n  'gender': 0,\n  'id': 900,\n  'job': 'Sound Designer',\n  'name': 'Christopher Boyes'},\n {'credit_id': '54491cb70e0a267480001bd0',\n  'department': 'Sound',\n  'gender': 0,\n  'id': 900,\n  'job': 'Supervising Sound Editor',\n  'name': 'Christopher Boyes'},\n {'credit_id': '539c4a4cc3a36810c9002101',\n  'department': 'Production',\n  'gender': 1,\n  'id': 1262,\n  'job': 'Casting',\n  'name': 'Mali Finn'},\n {'credit_id': '5544ee3b925141499f0008fc',\n  'department': 'Sound',\n  'gender': 2,\n  'id': 1729,\n  'job': 'Original Music Composer',\n  'name': 'James Horner'},\n {'credit_id': '52fe48009251416c750ac9c3',\n  'department': 'Directing',\n  'gender': 2,\n  'id': 2710,\n  'job': 'Director',\n  'name': 'James Cameron'},\n {'credit_id': '52fe48009251416c750ac9d9',\n  'department': 'Writing',\n  'gender': 2,\n  'id': 2710,\n  'job': 'Writer',\n  'name': 'James Cameron'},\n {'credit_id': '52fe48009251416c750aca17',\n  'department': 'Editing',\n  'gender': 2,\n  'id': 2710,\n  'job': 'Editor',\n  'name': 'James Cameron'},\n {'credit_id': '52fe48009251416c750aca29',\n  'department': 'Production',\n  'gender': 2,\n  'id': 2710,\n  'job': 'Producer',\n  'name': 'James Cameron'},\n {'credit_id': '52fe48009251416c750aca3f',\n  'department': 'Writing',\n  'gender': 2,\n  'id': 2710,\n  'job': 'Screenplay',\n  'name': 'James Cameron'},\n {'credit_id': '539c4987c3a36810ba0021a4',\n  'department': 'Art',\n  'gender': 2,\n  'id': 7236,\n  'job': 'Art Direction',\n  'name': 'Andrew Menzies'},\n {'credit_id': '549598c3c3a3686ae9004383',\n  'department': 'Visual Effects',\n  'gender': 0,\n  'id': 6690,\n  'job': 'Visual Effects Producer',\n  'name': 'Jill Brooks'},\n {'credit_id': '52fe48009251416c750aca4b',\n  'department': 'Production',\n  'gender': 1,\n  'id': 6347,\n  'job': 'Casting',\n  'name': 'Margery Simkin'},\n {'credit_id': '570b6f419251417da70032fe',\n  'department': 'Art',\n  'gender': 2,\n  'id': 6878,\n  'job': 'Supervising Art Director',\n  'name': 'Kevin Ishioka'},\n {'credit_id': '5495a0fac3a3686ae9004468',\n  'department': 'Sound',\n  'gender': 0,\n  'id': 6883,\n  'job': 'Music Editor',\n  'name': 'Dick Bernstein'},\n {'credit_id': '54959706c3a3686af3003e81',\n  'department': 'Sound',\n  'gender': 0,\n  'id': 8159,\n  'job': 'Sound Effects Editor',\n  'name': 'Shannon Mills'},\n {'credit_id': '54491d58c3a3680fb1001ccb',\n  'department': 'Sound',\n  'gender': 0,\n  'id': 8160,\n  'job': 'Foley',\n  'name': 'Dennie Thorpe'},\n {'credit_id': '54491d6cc3a3680fa5001b2c',\n  'department': 'Sound',\n  'gender': 0,\n  'id': 8163,\n  'job': 'Foley',\n  'name': 'Jana Vance'},\n {'credit_id': '52fe48009251416c750aca57',\n  'department': 'Costume & Make-Up',\n  'gender': 1,\n  'id': 8527,\n  'job': 'Costume Design',\n  'name': 'Deborah Lynn Scott'},\n {'credit_id': '52fe48009251416c750aca2f',\n  'department': 'Production',\n  'gender': 2,\n  'id': 8529,\n  'job': 'Producer',\n  'name': 'Jon Landau'},\n {'credit_id': '539c4937c3a36810ba002194',\n  'department': 'Art',\n  'gender': 0,\n  'id': 9618,\n  'job': 'Art Direction',\n  'name': 'Sean Haworth'},\n {'credit_id': '539c49b6c3a36810c10020e6',\n  'department': 'Art',\n  'gender': 1,\n  'id': 12653,\n  'job': 'Set Decoration',\n  'name': 'Kim Sinclair'},\n {'credit_id': '570b6f2f9251413a0e00020d',\n  'department': 'Art',\n  'gender': 1,\n  'id': 12653,\n  'job': 'Supervising Art Director',\n  'name': 'Kim Sinclair'},\n {'credit_id': '54491a6c0e0a26748c001b19',\n  'department': 'Art',\n  'gender': 2,\n  'id': 14350,\n  'job': 'Set Designer',\n  'name': 'Richard F. Mays'},\n {'credit_id': '56928cf4c3a3684cff0025c4',\n  'department': 'Production',\n  'gender': 1,\n  'id': 20294,\n  'job': 'Executive Producer',\n  'name': 'Laeta Kalogridis'},\n {'credit_id': '52fe48009251416c750aca51',\n  'department': 'Costume & Make-Up',\n  'gender': 0,\n  'id': 17675,\n  'job': 'Costume Design',\n  'name': 'Mayes C. Rubeo'},\n {'credit_id': '52fe48009251416c750aca11',\n  'department': 'Camera',\n  'gender': 2,\n  'id': 18265,\n  'job': 'Director of Photography',\n  'name': 'Mauro Fiore'},\n {'credit_id': '5449194d0e0a26748f001b39',\n  'department': 'Art',\n  'gender': 0,\n  'id': 42281,\n  'job': 'Set Designer',\n  'name': 'Scott Herbertson'},\n {'credit_id': '52fe48009251416c750aca05',\n  'department': 'Crew',\n  'gender': 0,\n  'id': 42288,\n  'job': 'Stunts',\n  'name': 'Woody Schultz'},\n {'credit_id': '5592aefb92514152de0010f5',\n  'department': 'Costume & Make-Up',\n  'gender': 0,\n  'id': 29067,\n  'job': 'Makeup Artist',\n  'name': 'Linda DeVetta'},\n {'credit_id': '5592afa492514152de00112c',\n  'department': 'Costume & Make-Up',\n  'gender': 0,\n  'id': 29067,\n  'job': 'Hairstylist',\n  'name': 'Linda DeVetta'},\n {'credit_id': '54959ed592514130fc002e5d',\n  'department': 'Camera',\n  'gender': 2,\n  'id': 33302,\n  'job': 'Camera Operator',\n  'name': 'Richard Bluck'},\n {'credit_id': '539c4891c3a36810ba002147',\n  'department': 'Art',\n  'gender': 2,\n  'id': 33303,\n  'job': 'Art Direction',\n  'name': 'Simon Bright'},\n {'credit_id': '54959c069251417a81001f3a',\n  'department': 'Visual Effects',\n  'gender': 0,\n  'id': 113145,\n  'job': 'Visual Effects Supervisor',\n  'name': 'Richard Martin'},\n {'credit_id': '54959a0dc3a3680ff5002c8d',\n  'department': 'Crew',\n  'gender': 2,\n  'id': 58188,\n  'job': 'Visual Effects Editor',\n  'name': 'Steve R. Moore'},\n {'credit_id': '52fe48009251416c750aca1d',\n  'department': 'Editing',\n  'gender': 2,\n  'id': 58871,\n  'job': 'Editor',\n  'name': 'John Refoua'},\n {'credit_id': '54491a4dc3a3680fc30018ca',\n  'department': 'Art',\n  'gender': 0,\n  'id': 92359,\n  'job': 'Set Designer',\n  'name': 'Karl J. Martin'},\n {'credit_id': '52fe48009251416c750aca35',\n  'department': 'Camera',\n  'gender': 1,\n  'id': 72201,\n  'job': 'Director of Photography',\n  'name': 'Chiling Lin'},\n {'credit_id': '52fe48009251416c750ac9ff',\n  'department': 'Crew',\n  'gender': 0,\n  'id': 89714,\n  'job': 'Stunts',\n  'name': 'Ilram Choi'},\n {'credit_id': '54959c529251416e2b004394',\n  'department': 'Visual Effects',\n  'gender': 2,\n  'id': 93214,\n  'job': 'Visual Effects Supervisor',\n  'name': 'Steven Quale'},\n {'credit_id': '54491edf0e0a267489001c37',\n  'department': 'Crew',\n  'gender': 1,\n  'id': 122607,\n  'job': 'Dialect Coach',\n  'name': 'Carla Meyer'},\n {'credit_id': '539c485bc3a368653d001a3a',\n  'department': 'Art',\n  'gender': 2,\n  'id': 132585,\n  'job': 'Art Direction',\n  'name': 'Nick Bassett'},\n {'credit_id': '539c4903c3a368653d001a74',\n  'department': 'Art',\n  'gender': 0,\n  'id': 132596,\n  'job': 'Art Direction',\n  'name': 'Jill Cormack'},\n {'credit_id': '539c4967c3a368653d001a94',\n  'department': 'Art',\n  'gender': 0,\n  'id': 132604,\n  'job': 'Art Direction',\n  'name': 'Andy McLaren'},\n {'credit_id': '52fe48009251416c750aca45',\n  'department': 'Crew',\n  'gender': 0,\n  'id': 236696,\n  'job': 'Motion Capture Artist',\n  'name': 'Terry Notary'},\n {'credit_id': '54959e02c3a3680fc60027d2',\n  'department': 'Crew',\n  'gender': 2,\n  'id': 956198,\n  'job': 'Stunt Coordinator',\n  'name': 'Garrett Warren'},\n {'credit_id': '54959ca3c3a3686ae300438c',\n  'department': 'Visual Effects',\n  'gender': 2,\n  'id': 957874,\n  'job': 'Visual Effects Supervisor',\n  'name': 'Jonathan Rothbart'},\n {'credit_id': '570b6f519251412c74001b2f',\n  'department': 'Art',\n  'gender': 0,\n  'id': 957889,\n  'job': 'Supervising Art Director',\n  'name': 'Stefan Dechant'},\n {'credit_id': '570b6f62c3a3680b77007460',\n  'department': 'Art',\n  'gender': 2,\n  'id': 959555,\n  'job': 'Supervising Art Director',\n  'name': 'Todd Cherniawsky'},\n {'credit_id': '539c4a3ac3a36810da0021cc',\n  'department': 'Production',\n  'gender': 0,\n  'id': 1016177,\n  'job': 'Casting',\n  'name': 'Miranda Rivers'},\n {'credit_id': '539c482cc3a36810c1002062',\n  'department': 'Art',\n  'gender': 0,\n  'id': 1032536,\n  'job': 'Production Design',\n  'name': 'Robert Stromberg'},\n {'credit_id': '539c4b65c3a36810c9002125',\n  'department': 'Costume & Make-Up',\n  'gender': 2,\n  'id': 1071680,\n  'job': 'Costume Design',\n  'name': 'John Harding'},\n {'credit_id': '54959e6692514130fc002e4e',\n  'department': 'Camera',\n  'gender': 0,\n  'id': 1177364,\n  'job': 'Steadicam Operator',\n  'name': 'Roberto De Angelis'},\n {'credit_id': '539c49f1c3a368653d001aac',\n  'department': 'Costume & Make-Up',\n  'gender': 2,\n  'id': 1202850,\n  'job': 'Makeup Department Head',\n  'name': 'Mike Smithson'},\n {'credit_id': '5495999ec3a3686ae100460c',\n  'department': 'Visual Effects',\n  'gender': 0,\n  'id': 1204668,\n  'job': 'Visual Effects Producer',\n  'name': 'Alain Lalanne'},\n {'credit_id': '54959cdfc3a3681153002729',\n  'department': 'Visual Effects',\n  'gender': 0,\n  'id': 1206410,\n  'job': 'Visual Effects Supervisor',\n  'name': 'Lucas Salton'},\n {'credit_id': '549596239251417a81001eae',\n  'department': 'Crew',\n  'gender': 0,\n  'id': 1234266,\n  'job': 'Post Production Supervisor',\n  'name': 'Janace Tashjian'},\n {'credit_id': '54959c859251416e1e003efe',\n  'department': 'Visual Effects',\n  'gender': 0,\n  'id': 1271932,\n  'job': 'Visual Effects Supervisor',\n  'name': 'Stephen Rosenbaum'},\n {'credit_id': '5592af28c3a368775a00105f',\n  'department': 'Costume & Make-Up',\n  'gender': 0,\n  'id': 1310064,\n  'job': 'Makeup Artist',\n  'name': 'Frankie Karena'},\n {'credit_id': '539c4adfc3a36810e300203b',\n  'department': 'Costume & Make-Up',\n  'gender': 1,\n  'id': 1319844,\n  'job': 'Costume Supervisor',\n  'name': 'Lisa Lovaas'},\n {'credit_id': '54959b579251416e2b004371',\n  'department': 'Visual Effects',\n  'gender': 0,\n  'id': 1327028,\n  'job': 'Visual Effects Supervisor',\n  'name': 'Jonathan Fawkner'},\n {'credit_id': '539c48a7c3a36810b5001fa7',\n  'department': 'Art',\n  'gender': 0,\n  'id': 1330561,\n  'job': 'Art Direction',\n  'name': 'Robert Bavin'},\n {'credit_id': '539c4a71c3a36810da0021e0',\n  'department': 'Costume & Make-Up',\n  'gender': 0,\n  'id': 1330567,\n  'job': 'Costume Supervisor',\n  'name': 'Anthony Almaraz'},\n {'credit_id': '539c4a8ac3a36810ba0021e4',\n  'department': 'Costume & Make-Up',\n  'gender': 0,\n  'id': 1330570,\n  'job': 'Costume Supervisor',\n  'name': 'Carolyn M. Fenton'},\n {'credit_id': '539c4ab6c3a36810da0021f0',\n  'department': 'Costume & Make-Up',\n  'gender': 0,\n  'id': 1330574,\n  'job': 'Costume Supervisor',\n  'name': 'Beth Koenigsberg'},\n {'credit_id': '54491ab70e0a267480001ba2',\n  'department': 'Art',\n  'gender': 0,\n  'id': 1336191,\n  'job': 'Set Designer',\n  'name': 'Sam Page'},\n {'credit_id': '544919d9c3a3680fc30018bd',\n  'department': 'Art',\n  'gender': 0,\n  'id': 1339441,\n  'job': 'Set Designer',\n  'name': 'Tex Kadonaga'},\n {'credit_id': '54491cf50e0a267483001b0c',\n  'department': 'Editing',\n  'gender': 0,\n  'id': 1352422,\n  'job': 'Dialogue Editor',\n  'name': 'Kim Foscato'},\n {'credit_id': '544919f40e0a26748c001b09',\n  'department': 'Art',\n  'gender': 0,\n  'id': 1352962,\n  'job': 'Set Designer',\n  'name': 'Tammy S. Lee'},\n {'credit_id': '5495a115c3a3680ff5002d71',\n  'department': 'Crew',\n  'gender': 0,\n  'id': 1357070,\n  'job': 'Transportation Coordinator',\n  'name': 'Denny Caira'},\n {'credit_id': '5495a12f92514130fc002e94',\n  'department': 'Crew',\n  'gender': 0,\n  'id': 1357071,\n  'job': 'Transportation Coordinator',\n  'name': 'James Waitkus'},\n {'credit_id': '5495976fc3a36811530026b0',\n  'department': 'Sound',\n  'gender': 0,\n  'id': 1360103,\n  'job': 'Supervising Sound Editor',\n  'name': 'Addison Teague'},\n {'credit_id': '54491837c3a3680fb1001c5a',\n  'department': 'Art',\n  'gender': 2,\n  'id': 1376887,\n  'job': 'Set Designer',\n  'name': 'C. Scott Baker'},\n {'credit_id': '54491878c3a3680fb4001c9d',\n  'department': 'Art',\n  'gender': 0,\n  'id': 1376888,\n  'job': 'Set Designer',\n  'name': 'Luke Caska'},\n {'credit_id': '544918dac3a3680fa5001ae0',\n  'department': 'Art',\n  'gender': 0,\n  'id': 1376889,\n  'job': 'Set Designer',\n  'name': 'David Chow'},\n {'credit_id': '544919110e0a267486001b68',\n  'department': 'Art',\n  'gender': 0,\n  'id': 1376890,\n  'job': 'Set Designer',\n  'name': 'Jonathan Dyer'},\n {'credit_id': '54491967c3a3680faa001b5e',\n  'department': 'Art',\n  'gender': 0,\n  'id': 1376891,\n  'job': 'Set Designer',\n  'name': 'Joseph Hiura'},\n {'credit_id': '54491997c3a3680fb1001c8a',\n  'department': 'Art',\n  'gender': 0,\n  'id': 1376892,\n  'job': 'Art Department Coordinator',\n  'name': 'Rebecca Jellie'},\n {'credit_id': '544919ba0e0a26748f001b42',\n  'department': 'Art',\n  'gender': 0,\n  'id': 1376893,\n  'job': 'Set Designer',\n  'name': 'Robert Andrew Johnson'},\n {'credit_id': '54491b1dc3a3680faa001b8c',\n  'department': 'Art',\n  'gender': 0,\n  'id': 1376895,\n  'job': 'Assistant Art Director',\n  'name': 'Mike Stassi'},\n {'credit_id': '54491b79c3a3680fbb001826',\n  'department': 'Art',\n  'gender': 0,\n  'id': 1376897,\n  'job': 'Construction Coordinator',\n  'name': 'John Villarino'},\n {'credit_id': '54491baec3a3680fb4001ce6',\n  'department': 'Art',\n  'gender': 2,\n  'id': 1376898,\n  'job': 'Assistant Art Director',\n  'name': 'Jeffrey Wisniewski'},\n {'credit_id': '54491d2fc3a3680fb4001d07',\n  'department': 'Editing',\n  'gender': 0,\n  'id': 1376899,\n  'job': 'Dialogue Editor',\n  'name': 'Cheryl Nardi'},\n {'credit_id': '54491d86c3a3680fa5001b2f',\n  'department': 'Editing',\n  'gender': 0,\n  'id': 1376901,\n  'job': 'Dialogue Editor',\n  'name': 'Marshall Winn'},\n {'credit_id': '54491d9dc3a3680faa001bb0',\n  'department': 'Sound',\n  'gender': 0,\n  'id': 1376902,\n  'job': 'Supervising Sound Editor',\n  'name': 'Gwendolyn Yates Whittle'},\n {'credit_id': '54491dc10e0a267486001bce',\n  'department': 'Sound',\n  'gender': 0,\n  'id': 1376903,\n  'job': 'Sound Re-Recording Mixer',\n  'name': 'William Stein'},\n {'credit_id': '54491f500e0a26747c001c07',\n  'department': 'Crew',\n  'gender': 0,\n  'id': 1376909,\n  'job': 'Choreographer',\n  'name': 'Lula Washington'},\n {'credit_id': '549599239251412c4e002a2e',\n  'department': 'Visual Effects',\n  'gender': 0,\n  'id': 1391692,\n  'job': 'Visual Effects Producer',\n  'name': 'Chris Del Conte'},\n {'credit_id': '54959d54c3a36831b8001d9a',\n  'department': 'Visual Effects',\n  'gender': 2,\n  'id': 1391695,\n  'job': 'Visual Effects Supervisor',\n  'name': 'R. Christopher White'},\n {'credit_id': '54959bdf9251412c4e002a66',\n  'department': 'Visual Effects',\n  'gender': 0,\n  'id': 1394070,\n  'job': 'Visual Effects Supervisor',\n  'name': 'Dan Lemmon'},\n {'credit_id': '5495971d92514132ed002922',\n  'department': 'Sound',\n  'gender': 0,\n  'id': 1394129,\n  'job': 'Sound Effects Editor',\n  'name': 'Tim Nielsen'},\n {'credit_id': '5592b25792514152cc0011aa',\n  'department': 'Crew',\n  'gender': 0,\n  'id': 1394286,\n  'job': 'CG Supervisor',\n  'name': 'Michael Mulholland'},\n {'credit_id': '54959a329251416e2b004355',\n  'department': 'Crew',\n  'gender': 0,\n  'id': 1394750,\n  'job': 'Visual Effects Editor',\n  'name': 'Thomas Nittmann'},\n {'credit_id': '54959d6dc3a3686ae9004401',\n  'department': 'Visual Effects',\n  'gender': 0,\n  'id': 1394755,\n  'job': 'Visual Effects Supervisor',\n  'name': 'Edson Williams'},\n {'credit_id': '5495a08fc3a3686ae300441c',\n  'department': 'Editing',\n  'gender': 0,\n  'id': 1394953,\n  'job': 'Digital Intermediate',\n  'name': 'Christine Carr'},\n {'credit_id': '55402d659251413d6d000249',\n  'department': 'Visual Effects',\n  'gender': 0,\n  'id': 1395269,\n  'job': 'Visual Effects Supervisor',\n  'name': 'John Bruno'},\n {'credit_id': '54959e7b9251416e1e003f3e',\n  'department': 'Camera',\n  'gender': 0,\n  'id': 1398970,\n  'job': 'Steadicam Operator',\n  'name': 'David Emmerichs'},\n {'credit_id': '54959734c3a3686ae10045e0',\n  'department': 'Sound',\n  'gender': 0,\n  'id': 1400906,\n  'job': 'Sound Effects Editor',\n  'name': 'Christopher Scarabosio'},\n {'credit_id': '549595dd92514130fc002d79',\n  'department': 'Production',\n  'gender': 0,\n  'id': 1401784,\n  'job': 'Production Supervisor',\n  'name': 'Jennifer Teves'},\n {'credit_id': '549596009251413af70028cc',\n  'department': 'Production',\n  'gender': 0,\n  'id': 1401785,\n  'job': 'Production Manager',\n  'name': 'Brigitte Yorke'},\n {'credit_id': '549596e892514130fc002d99',\n  'department': 'Sound',\n  'gender': 0,\n  'id': 1401786,\n  'job': 'Sound Effects Editor',\n  'name': 'Ken Fischer'},\n {'credit_id': '549598229251412c4e002a1c',\n  'department': 'Crew',\n  'gender': 0,\n  'id': 1401787,\n  'job': 'Special Effects Coordinator',\n  'name': 'Iain Hutton'},\n {'credit_id': '549598349251416e2b00432b',\n  'department': 'Crew',\n  'gender': 0,\n  'id': 1401788,\n  'job': 'Special Effects Coordinator',\n  'name': 'Steve Ingram'},\n {'credit_id': '54959905c3a3686ae3004324',\n  'department': 'Visual Effects',\n  'gender': 0,\n  'id': 1401789,\n  'job': 'Visual Effects Producer',\n  'name': 'Joyce Cox'},\n {'credit_id': '5495994b92514132ed002951',\n  'department': 'Visual Effects',\n  'gender': 0,\n  'id': 1401790,\n  'job': 'Visual Effects Producer',\n  'name': 'Jenny Foster'},\n {'credit_id': '549599cbc3a3686ae1004613',\n  'department': 'Crew',\n  'gender': 0,\n  'id': 1401791,\n  'job': 'Visual Effects Editor',\n  'name': 'Christopher Marino'},\n {'credit_id': '549599f2c3a3686ae100461e',\n  'department': 'Crew',\n  'gender': 0,\n  'id': 1401792,\n  'job': 'Visual Effects Editor',\n  'name': 'Jim Milton'},\n {'credit_id': '54959a51c3a3686af3003eb5',\n  'department': 'Visual Effects',\n  'gender': 0,\n  'id': 1401793,\n  'job': 'Visual Effects Producer',\n  'name': 'Cyndi Ochs'},\n {'credit_id': '54959a7cc3a36811530026f4',\n  'department': 'Crew',\n  'gender': 0,\n  'id': 1401794,\n  'job': 'Visual Effects Editor',\n  'name': 'Lucas Putnam'},\n {'credit_id': '54959b91c3a3680ff5002cb4',\n  'department': 'Visual Effects',\n  'gender': 0,\n  'id': 1401795,\n  'job': 'Visual Effects Supervisor',\n  'name': \"Anthony 'Max' Ivins\"},\n {'credit_id': '54959bb69251412c4e002a5f',\n  'department': 'Visual Effects',\n  'gender': 0,\n  'id': 1401796,\n  'job': 'Visual Effects Supervisor',\n  'name': 'John Knoll'},\n {'credit_id': '54959cbbc3a3686ae3004391',\n  'department': 'Visual Effects',\n  'gender': 2,\n  'id': 1401799,\n  'job': 'Visual Effects Supervisor',\n  'name': 'Eric Saindon'},\n {'credit_id': '54959d06c3a3686ae90043f6',\n  'department': 'Visual Effects',\n  'gender': 0,\n  'id': 1401800,\n  'job': 'Visual Effects Supervisor',\n  'name': 'Wayne Stables'},\n {'credit_id': '54959d259251416e1e003f11',\n  'department': 'Visual Effects',\n  'gender': 0,\n  'id': 1401801,\n  'job': 'Visual Effects Supervisor',\n  'name': 'David Stinnett'},\n {'credit_id': '54959db49251413af7002975',\n  'department': 'Visual Effects',\n  'gender': 0,\n  'id': 1401803,\n  'job': 'Visual Effects Supervisor',\n  'name': 'Guy Williams'},\n {'credit_id': '54959de4c3a3681153002750',\n  'department': 'Crew',\n  'gender': 0,\n  'id': 1401804,\n  'job': 'Stunt Coordinator',\n  'name': 'Stuart Thorp'},\n {'credit_id': '54959ef2c3a3680fc60027f2',\n  'department': 'Lighting',\n  'gender': 0,\n  'id': 1401805,\n  'job': 'Best Boy Electric',\n  'name': 'Giles Coburn'},\n {'credit_id': '54959f07c3a3680fc60027f9',\n  'department': 'Camera',\n  'gender': 2,\n  'id': 1401806,\n  'job': 'Still Photographer',\n  'name': 'Mark Fellman'},\n {'credit_id': '54959f47c3a3681153002774',\n  'department': 'Lighting',\n  'gender': 0,\n  'id': 1401807,\n  'job': 'Lighting Technician',\n  'name': 'Scott Sprague'},\n {'credit_id': '54959f8cc3a36831b8001df2',\n  'department': 'Visual Effects',\n  'gender': 0,\n  'id': 1401808,\n  'job': 'Animation Director',\n  'name': 'Jeremy Hollobon'},\n {'credit_id': '54959fa0c3a36831b8001dfb',\n  'department': 'Visual Effects',\n  'gender': 0,\n  'id': 1401809,\n  'job': 'Animation Director',\n  'name': 'Orlando Meunier'},\n {'credit_id': '54959fb6c3a3686af3003f54',\n  'department': 'Visual Effects',\n  'gender': 0,\n  'id': 1401810,\n  'job': 'Animation Director',\n  'name': 'Taisuke Tanimura'},\n {'credit_id': '54959fd2c3a36831b8001e02',\n  'department': 'Costume & Make-Up',\n  'gender': 0,\n  'id': 1401812,\n  'job': 'Set Costumer',\n  'name': 'Lilia Mishel Acevedo'},\n {'credit_id': '54959ff9c3a3686ae300440c',\n  'department': 'Costume & Make-Up',\n  'gender': 0,\n  'id': 1401814,\n  'job': 'Set Costumer',\n  'name': 'Alejandro M. Hernandez'},\n {'credit_id': '5495a0ddc3a3686ae10046fe',\n  'department': 'Editing',\n  'gender': 0,\n  'id': 1401815,\n  'job': 'Digital Intermediate',\n  'name': 'Marvin Hall'},\n {'credit_id': '5495a1f7c3a3686ae3004443',\n  'department': 'Production',\n  'gender': 0,\n  'id': 1401816,\n  'job': 'Publicist',\n  'name': 'Judy Alley'},\n {'credit_id': '5592b29fc3a36869d100002f',\n  'department': 'Crew',\n  'gender': 0,\n  'id': 1418381,\n  'job': 'CG Supervisor',\n  'name': 'Mike Perry'},\n {'credit_id': '5592b23a9251415df8001081',\n  'department': 'Crew',\n  'gender': 0,\n  'id': 1426854,\n  'job': 'CG Supervisor',\n  'name': 'Andrew Morley'},\n {'credit_id': '55491e1192514104c40002d8',\n  'department': 'Art',\n  'gender': 0,\n  'id': 1438901,\n  'job': 'Conceptual Design',\n  'name': 'Seth Engstrom'},\n {'credit_id': '5525d5809251417276002b06',\n  'department': 'Crew',\n  'gender': 0,\n  'id': 1447362,\n  'job': 'Visual Effects Art Director',\n  'name': 'Eric Oliver'},\n {'credit_id': '554427ca925141586500312a',\n  'department': 'Visual Effects',\n  'gender': 0,\n  'id': 1447503,\n  'job': 'Modeling',\n  'name': 'Matsune Suzuki'},\n {'credit_id': '551906889251415aab001c88',\n  'department': 'Art',\n  'gender': 0,\n  'id': 1447524,\n  'job': 'Art Department Manager',\n  'name': 'Paul Tobin'},\n {'credit_id': '5592af8492514152cc0010de',\n  'department': 'Costume & Make-Up',\n  'gender': 0,\n  'id': 1452643,\n  'job': 'Hairstylist',\n  'name': 'Roxane Griffin'},\n {'credit_id': '553d3c109251415852001318',\n  'department': 'Lighting',\n  'gender': 0,\n  'id': 1453938,\n  'job': 'Lighting Artist',\n  'name': 'Arun Ram-Mohan'},\n {'credit_id': '5592af4692514152d5001355',\n  'department': 'Costume & Make-Up',\n  'gender': 0,\n  'id': 1457305,\n  'job': 'Makeup Artist',\n  'name': 'Georgia Lockhart-Adams'},\n {'credit_id': '5592b2eac3a36877470012a5',\n  'department': 'Crew',\n  'gender': 0,\n  'id': 1466035,\n  'job': 'CG Supervisor',\n  'name': 'Thrain Shadbolt'},\n {'credit_id': '5592b032c3a36877450015f1',\n  'department': 'Crew',\n  'gender': 0,\n  'id': 1483220,\n  'job': 'CG Supervisor',\n  'name': 'Brad Alexander'},\n {'credit_id': '5592b05592514152d80012f6',\n  'department': 'Crew',\n  'gender': 0,\n  'id': 1483221,\n  'job': 'CG Supervisor',\n  'name': 'Shadi Almassizadeh'},\n {'credit_id': '5592b090c3a36877570010b5',\n  'department': 'Crew',\n  'gender': 0,\n  'id': 1483222,\n  'job': 'CG Supervisor',\n  'name': 'Simon Clutterbuck'},\n {'credit_id': '5592b0dbc3a368774b00112c',\n  'department': 'Crew',\n  'gender': 0,\n  'id': 1483223,\n  'job': 'CG Supervisor',\n  'name': 'Graeme Demmocks'},\n {'credit_id': '5592b0fe92514152db0010c1',\n  'department': 'Crew',\n  'gender': 0,\n  'id': 1483224,\n  'job': 'CG Supervisor',\n  'name': 'Adrian Fernandes'},\n {'credit_id': '5592b11f9251415df8001059',\n  'department': 'Crew',\n  'gender': 0,\n  'id': 1483225,\n  'job': 'CG Supervisor',\n  'name': 'Mitch Gates'},\n {'credit_id': '5592b15dc3a3687745001645',\n  'department': 'Crew',\n  'gender': 0,\n  'id': 1483226,\n  'job': 'CG Supervisor',\n  'name': 'Jerry Kung'},\n {'credit_id': '5592b18e925141645a0004ae',\n  'department': 'Crew',\n  'gender': 0,\n  'id': 1483227,\n  'job': 'CG Supervisor',\n  'name': 'Andy Lomas'},\n {'credit_id': '5592b1bfc3a368775d0010e7',\n  'department': 'Crew',\n  'gender': 0,\n  'id': 1483228,\n  'job': 'CG Supervisor',\n  'name': 'Sebastian Marino'},\n {'credit_id': '5592b2049251415df8001078',\n  'department': 'Crew',\n  'gender': 0,\n  'id': 1483229,\n  'job': 'CG Supervisor',\n  'name': 'Matthias Menz'},\n {'credit_id': '5592b27b92514152d800136a',\n  'department': 'Crew',\n  'gender': 0,\n  'id': 1483230,\n  'job': 'CG Supervisor',\n  'name': 'Sergei Nevshupov'},\n {'credit_id': '5592b2c3c3a36869e800003c',\n  'department': 'Crew',\n  'gender': 0,\n  'id': 1483231,\n  'job': 'CG Supervisor',\n  'name': 'Philippe Rebours'},\n {'credit_id': '5592b317c3a36877470012af',\n  'department': 'Crew',\n  'gender': 0,\n  'id': 1483232,\n  'job': 'CG Supervisor',\n  'name': 'Michael Takarangi'},\n {'credit_id': '5592b345c3a36877470012bb',\n  'department': 'Crew',\n  'gender': 0,\n  'id': 1483233,\n  'job': 'CG Supervisor',\n  'name': 'David Weitzberg'},\n {'credit_id': '5592b37cc3a368775100113b',\n  'department': 'Crew',\n  'gender': 0,\n  'id': 1483234,\n  'job': 'CG Supervisor',\n  'name': 'Ben White'},\n {'credit_id': '573c8e2f9251413f5d000094',\n  'department': 'Crew',\n  'gender': 1,\n  'id': 1621932,\n  'job': 'Stunts',\n  'name': 'Min Windle'}]"
     },
     "execution_count": 49,
     "metadata": {},
     "output_type": "execute_result"
    }
   ],
   "source": [
    "df2.loc[0, 'crew']"
   ],
   "metadata": {
    "collapsed": false,
    "pycharm": {
     "name": "#%%\n"
    }
   }
  },
  {
   "cell_type": "code",
   "execution_count": 64,
   "outputs": [],
   "source": [
    "# 감독 정봅를 추출\n",
    "def get_director(x):\n",
    "    for i in x:\n",
    "        if i['job'] == 'Director':\n",
    "            return i['name']\n",
    "    return np.nan"
   ],
   "metadata": {
    "collapsed": false,
    "pycharm": {
     "name": "#%%\n"
    }
   }
  },
  {
   "cell_type": "code",
   "execution_count": 65,
   "outputs": [
    {
     "data": {
      "text/plain": "0           James Cameron\n1          Gore Verbinski\n2              Sam Mendes\n3       Christopher Nolan\n4          Andrew Stanton\n              ...        \n4798     Robert Rodriguez\n4799         Edward Burns\n4800          Scott Smith\n4801          Daniel Hsia\n4802     Brian Herzlinger\nName: director, Length: 4803, dtype: object"
     },
     "execution_count": 65,
     "metadata": {},
     "output_type": "execute_result"
    }
   ],
   "source": [
    "df2['director'] = df2['crew'].apply(get_director)\n",
    "df2['director']"
   ],
   "metadata": {
    "collapsed": false,
    "pycharm": {
     "name": "#%%\n"
    }
   }
  },
  {
   "cell_type": "code",
   "execution_count": 66,
   "outputs": [
    {
     "data": {
      "text/plain": "       budget                            genres  \\\n3661        0                           [drama]   \n3670        0                          [family]   \n3729  3250000          [drama, family, foreign]   \n3977        0          [comedy, drama, romance]   \n4068        0                                []   \n4105  2000000                                []   \n4118        0                                []   \n4123  7000000      [animation, family, foreign]   \n4247        1          [romance, comedy, drama]   \n4305        0                   [comedy, music]   \n4314  1200000                                []   \n4322        0                     [documentary]   \n4374        0                          [comedy]   \n4401        0  [action, comedy, sciencefiction]   \n4405        0                  [family, comedy]   \n4458        0                                []   \n4504        0                                []   \n4553        0                                []   \n4562   500000                                []   \n4566        0                                []   \n4571        0                                []   \n4583        0                     [documentary]   \n4589        0        [drama, mystery, thriller]   \n4633        0                                []   \n4638   300000            [drama, action, crime]   \n4644        0                          [horror]   \n4657        0                                []   \n4662        0                          [comedy]   \n4674        0                                []   \n4716        0                                []   \n\n                                               homepage      id  \\\n3661                                                NaN   19615   \n3670                                                NaN  447027   \n3729                         http://www.paathefilm.com/   26379   \n3977                                                NaN   55831   \n4068                                                NaN  371085   \n4105                                                NaN   48382   \n4118                                                NaN  325140   \n4123                      http://www.roadsideromeo.com/   20653   \n4247                                                NaN  361505   \n4305                                                NaN  114065   \n4314                                                NaN  137955   \n4322                                                NaN  102840   \n4374                                                NaN   47686   \n4401                                                NaN   43630   \n4405  https://www.epicbuzz.net/movies/karachi-se-lahore  357441   \n4458                                                NaN  279759   \n4504                                                NaN  331493   \n4553                                                NaN  380097   \n4562                                                NaN  297100   \n4566                                                NaN  325579   \n4571                                                NaN  328307   \n4583                     http://www.iwantyourmoney.net/   47546   \n4589                                                NaN   43743   \n4633                                                NaN  300327   \n4638                                                NaN  378237   \n4644                                                NaN  325123   \n4657                                                NaN  320435   \n4662                                                NaN   40963   \n4674                                                NaN  194588   \n4716                                                NaN   38786   \n\n               keywords original_language  \\\n3661                 []                en   \n3670                 []                en   \n3729                 []                en   \n3977  [independentfilm]                en   \n4068                 []                en   \n4105                 []                en   \n4118                 []                en   \n4123                 []                en   \n4247                 []                en   \n4305                 []                en   \n4314                 []                en   \n4322                 []                en   \n4374  [independentfilm]                en   \n4401                 []                en   \n4405                 []                en   \n4458                 []                en   \n4504                 []                en   \n4553                 []                en   \n4562                 []                en   \n4566                 []                en   \n4571                 []                en   \n4583                 []                en   \n4589  [independentfilm]                en   \n4633                 []                en   \n4638                 []                en   \n4644                 []                en   \n4657                 []                en   \n4662  [independentfilm]                en   \n4674                 []                en   \n4716                 []                en   \n\n                                         original_title  \\\n3661                                          Flying By   \n3670                                    Running Forever   \n3729                                                Paa   \n3977                                 Boynton Beach Club   \n4068                                          Sharkskin   \n4105    The Book of Mormon Movie, Volume 1: The Journey   \n4118                             Hum To Mohabbat Karega   \n4123                                     Roadside Romeo   \n4247                              Me You and Five Bucks   \n4305                          Down & Out With The Dolls   \n4314                                          Crowsnest   \n4322                                 Sex With Strangers   \n4374                              Dream with the Fishes   \n4401                                The Helix... Loaded   \n4405                                  Karachi se Lahore   \n4458                                Harrison Montgomery   \n4504                            Light from the Darkroom   \n4553                         America Is Still the Place   \n4562                           The Little Ponderosa Zoo   \n4566                                       Diamond Ruff   \n4571  Rise of the Entrepreneur: The Search for a Bet...   \n4583                                  I Want Your Money   \n4589                                             Fabled   \n4633                                        Death Calls   \n4638                           Amidst the Devil's Wings   \n4644                                    Teeth and Blood   \n4657                                          UnDivided   \n4662                                     Little Big Top   \n4674                   Short Cut to Nirvana: Kumbh Mela   \n4716  The Blood of My Brother: A Story of Death in Iraq   \n\n                                               overview  popularity  \\\n3661  A real estate developer goes to his 25th high ...    1.546169   \n3670  After being estranged since her mother's death...    0.028756   \n3729  He suffers from a progeria like syndrome. Ment...    2.126139   \n3977  A handful of men and women of a certain age pi...    0.188870   \n4068  The Post War II story of Manhattan born Mike E...    0.027801   \n4105  The story of Lehi and his wife Sariah and thei...    0.031947   \n4118  Raju, a waiter, is in love with the famous TV ...    0.001186   \n4123  This is the story of Romeo. A dude who was liv...    0.253595   \n4247  A womanizing yet lovable loser, Charlie, a wai...    0.094105   \n4305  The raunchy, spunky tale of the rise and fall ...    0.002386   \n4314  In late summer of 2011, five young friends on ...    0.057564   \n4322  For some married couples, sex is an obsession ...    0.014406   \n4374  Terry is a suicidal voyeur who treats a dying ...    0.948316   \n4401                                                       0.020600   \n4405  A road trip from Karachi to Lahore where 5 fri...    0.060003   \n4458                            Film from Daniel Davila    0.006943   \n4504  Light in the Darkroom is the story of two best...    0.012942   \n4553  1971 post civil rights San Francisco seemed li...    0.000000   \n4562  The Little Ponderosa Zoo is preparing for thei...    0.073079   \n4566  Action - Orphan, con artist, crime boss and mi...    0.165257   \n4571  The world is changing faster than ever. Techno...    0.052942   \n4583  Two versions of the American dream now stand i...    0.084344   \n4589  Joseph just broke up with his girlfriend and i...    0.003352   \n4633  An action-packed love story on the Mexican bor...    0.005883   \n4638                      Prequel to \"5th of a Degree.\"    0.018087   \n4644  A beautiful diva is murdered on the set of hor...    0.055325   \n4657  UnDivided documents the true story of how a su...    0.010607   \n4662  An aging out of work clown returns to his smal...    0.092100   \n4674  Every 12 years over 70 million pilgrims gather...    0.004998   \n4716  THE BLOOD OF MY BROTHER goes behind the scenes...    0.005256   \n\n                                   production_companies  ... runtime  \\\n3661                                                 []  ...    95.0   \n3670    [{\"name\": \"New Kingdom Pictures\", \"id\": 41671}]  ...    88.0   \n3729                 [{\"name\": \"A B Corp\", \"id\": 4502}]  ...   133.0   \n3977                                                 []  ...   105.0   \n4068                                                 []  ...     0.0   \n4105                                                 []  ...   120.0   \n4118                                                 []  ...     0.0   \n4123  [{\"name\": \"Walt Disney Pictures\", \"id\": 2}, {\"...  ...    93.0   \n4247                                                 []  ...    90.0   \n4305                                                 []  ...    88.0   \n4314                                                 []  ...    84.0   \n4322                                                 []  ...     0.0   \n4374                                                 []  ...    97.0   \n4401                                                 []  ...    97.0   \n4405                                                 []  ...     0.0   \n4458                                                 []  ...     0.0   \n4504                                                 []  ...     0.0   \n4553                                                 []  ...     0.0   \n4562                                                 []  ...    84.0   \n4566                                                 []  ...     0.0   \n4571                                                 []  ...     0.0   \n4583                                                 []  ...    92.0   \n4589                                                 []  ...    84.0   \n4633                                                 []  ...     0.0   \n4638  [{\"name\": \"Daniel Columbie Films & Productions...  ...    90.0   \n4644                                                 []  ...    96.0   \n4657                                                 []  ...     0.0   \n4662          [{\"name\": \"Fly High Films\", \"id\": 24248}]  ...     0.0   \n4674                                                 []  ...    85.0   \n4716                                                 []  ...    90.0   \n\n                                       spoken_languages    status  \\\n3661           [{\"iso_639_1\": \"en\", \"name\": \"English\"}]  Released   \n3670                                                 []  Released   \n3729  [{\"iso_639_1\": \"hi\", \"name\": \"\\u0939\\u093f\\u09...  Released   \n3977           [{\"iso_639_1\": \"en\", \"name\": \"English\"}]  Released   \n4068                                                 []  Released   \n4105                                                 []  Released   \n4118                                                 []  Released   \n4123  [{\"iso_639_1\": \"en\", \"name\": \"English\"}, {\"iso...  Released   \n4247                                                 []  Released   \n4305                                                 []  Released   \n4314                                                 []  Released   \n4322                                                 []  Released   \n4374           [{\"iso_639_1\": \"en\", \"name\": \"English\"}]  Released   \n4401           [{\"iso_639_1\": \"en\", \"name\": \"English\"}]   Rumored   \n4405  [{\"iso_639_1\": \"ur\", \"name\": \"\\u0627\\u0631\\u06...  Released   \n4458                                                 []  Released   \n4504                                                 []  Released   \n4553                                                 []  Released   \n4562           [{\"iso_639_1\": \"en\", \"name\": \"English\"}]  Released   \n4566                                                 []  Released   \n4571                                                 []  Released   \n4583                                                 []  Released   \n4589                                                 []  Released   \n4633                                                 []  Released   \n4638           [{\"iso_639_1\": \"en\", \"name\": \"English\"}]  Released   \n4644           [{\"iso_639_1\": \"en\", \"name\": \"English\"}]  Released   \n4657                                                 []  Released   \n4662           [{\"iso_639_1\": \"en\", \"name\": \"English\"}]   Rumored   \n4674                                                 []  Released   \n4716                                                 []  Released   \n\n                                                tagline  \\\n3661                               It's about the music   \n3670                                                NaN   \n3729                                                NaN   \n3977                                                NaN   \n4068                                                NaN   \n4105  2600 years ago, one family began a remarkable ...   \n4118                                                NaN   \n4123                                                NaN   \n4247               A story about second, second chances   \n4305                       Ain't Rock 'N' Roll a bitch.   \n4314                                                NaN   \n4322                                                NaN   \n4374  An oddball odyssey about voyeurism, LSD and nu...   \n4401                                                NaN   \n4405                                                NaN   \n4458                                                NaN   \n4504                                                NaN   \n4553                                                NaN   \n4562                                                NaN   \n4566                                                NaN   \n4571                                                NaN   \n4583  The film contrasts two views of role that the ...   \n4589              There once was a wolf named Lupold...   \n4633                                                NaN   \n4638                      Prequel to \"5th of a Degree.\"   \n4644                                                NaN   \n4657                                                NaN   \n4662                                                NaN   \n4674                                                NaN   \n4716                                                NaN   \n\n                                                  title vote_average  \\\n3661                                          Flying By          7.0   \n3670                                    Running Forever          0.0   \n3729                                                Paa          6.6   \n3977                                 Boynton Beach Club          6.8   \n4068                                          Sharkskin          0.0   \n4105    The Book of Mormon Movie, Volume 1: The Journey          5.0   \n4118                             Hum To Mohabbat Karega          0.0   \n4123                                     Roadside Romeo          6.7   \n4247                              Me You and Five Bucks         10.0   \n4305                          Down & Out With The Dolls          0.0   \n4314                                          Crowsnest          4.8   \n4322                                 Sex With Strangers          5.0   \n4374                              Dream with the Fishes          7.7   \n4401                                The Helix... Loaded          4.8   \n4405                                  Karachi se Lahore          8.0   \n4458                                Harrison Montgomery          0.0   \n4504                            Light from the Darkroom          0.0   \n4553                         America Is Still the Place          0.0   \n4562                           The Little Ponderosa Zoo          2.0   \n4566                                       Diamond Ruff          2.4   \n4571  Rise of the Entrepreneur: The Search for a Bet...          8.0   \n4583                                  I Want Your Money          3.8   \n4589                                             Fabled          0.0   \n4633                                        Death Calls          0.0   \n4638                           Amidst the Devil's Wings          0.0   \n4644                                    Teeth and Blood          3.0   \n4657                                          UnDivided          0.0   \n4662                                     Little Big Top         10.0   \n4674                   Short Cut to Nirvana: Kumbh Mela          0.0   \n4716  The Blood of My Brother: A Story of Death in Iraq          0.0   \n\n     vote_count                                               cast  \\\n3661          2  [billyraycyrus, heatherlocklear, ahnaisechrist...   \n3670          0                                                 []   \n3729         19    [amitabhbachchan, abhishekbachchan, vidyabalan]   \n3977          3         [brendavaccaro, dyancannon, josephbologna]   \n4068          0                                                 []   \n4105          2                      [kirbyheyborne, michaelflynn]   \n4118          0                                                 []   \n4123          3         [saifalikhan, kareenakapoor, javedjaffrey]   \n4247          2                                                 []   \n4305          0                                                 []   \n4314         12                                                 []   \n4322          1                                                 []   \n4374         10             [davidarquette, bradhunt, kathrynerbe]   \n4401          2                                                 []   \n4405          1          [shehzadsheikh, ayeshaomar, yasirhussain]   \n4458          0                                                 []   \n4504          0                                                 []   \n4553          0                                                 []   \n4562          1                                                 []   \n4566          4                                                 []   \n4571          1                                                 []   \n4583          5                                                 []   \n4589          0                                                 []   \n4633          0                                                 []   \n4638          0                                                 []   \n4644          1  [glennplummer, michellevanderwater, daniellevega]   \n4657          0                                                 []   \n4662          1               [sidhaig, richardriehle, melengland]   \n4674          0                                                 []   \n4716          0                                                 []   \n\n                                                   crew  director  \n3661                                                 []       NaN  \n3670                                                 []       NaN  \n3729  [{'credit_id': '52fe44fec3a368484e042a29', 'de...       NaN  \n3977                                                 []       NaN  \n4068                                                 []       NaN  \n4105                                                 []       NaN  \n4118                                                 []       NaN  \n4123                                                 []       NaN  \n4247                                                 []       NaN  \n4305                                                 []       NaN  \n4314                                                 []       NaN  \n4322                                                 []       NaN  \n4374  [{'credit_id': '555e51909251417e5f000b42', 'de...       NaN  \n4401                                                 []       NaN  \n4405                                                 []       NaN  \n4458                                                 []       NaN  \n4504                                                 []       NaN  \n4553                                                 []       NaN  \n4562                                                 []       NaN  \n4566                                                 []       NaN  \n4571                                                 []       NaN  \n4583                                                 []       NaN  \n4589                                                 []       NaN  \n4633                                                 []       NaN  \n4638                                                 []       NaN  \n4644                                                 []       NaN  \n4657                                                 []       NaN  \n4662                                                 []       NaN  \n4674                                                 []       NaN  \n4716                                                 []       NaN  \n\n[30 rows x 23 columns]",
      "text/html": "<div>\n<style scoped>\n    .dataframe tbody tr th:only-of-type {\n        vertical-align: middle;\n    }\n\n    .dataframe tbody tr th {\n        vertical-align: top;\n    }\n\n    .dataframe thead th {\n        text-align: right;\n    }\n</style>\n<table border=\"1\" class=\"dataframe\">\n  <thead>\n    <tr style=\"text-align: right;\">\n      <th></th>\n      <th>budget</th>\n      <th>genres</th>\n      <th>homepage</th>\n      <th>id</th>\n      <th>keywords</th>\n      <th>original_language</th>\n      <th>original_title</th>\n      <th>overview</th>\n      <th>popularity</th>\n      <th>production_companies</th>\n      <th>...</th>\n      <th>runtime</th>\n      <th>spoken_languages</th>\n      <th>status</th>\n      <th>tagline</th>\n      <th>title</th>\n      <th>vote_average</th>\n      <th>vote_count</th>\n      <th>cast</th>\n      <th>crew</th>\n      <th>director</th>\n    </tr>\n  </thead>\n  <tbody>\n    <tr>\n      <th>3661</th>\n      <td>0</td>\n      <td>[drama]</td>\n      <td>NaN</td>\n      <td>19615</td>\n      <td>[]</td>\n      <td>en</td>\n      <td>Flying By</td>\n      <td>A real estate developer goes to his 25th high ...</td>\n      <td>1.546169</td>\n      <td>[]</td>\n      <td>...</td>\n      <td>95.0</td>\n      <td>[{\"iso_639_1\": \"en\", \"name\": \"English\"}]</td>\n      <td>Released</td>\n      <td>It's about the music</td>\n      <td>Flying By</td>\n      <td>7.0</td>\n      <td>2</td>\n      <td>[billyraycyrus, heatherlocklear, ahnaisechrist...</td>\n      <td>[]</td>\n      <td>NaN</td>\n    </tr>\n    <tr>\n      <th>3670</th>\n      <td>0</td>\n      <td>[family]</td>\n      <td>NaN</td>\n      <td>447027</td>\n      <td>[]</td>\n      <td>en</td>\n      <td>Running Forever</td>\n      <td>After being estranged since her mother's death...</td>\n      <td>0.028756</td>\n      <td>[{\"name\": \"New Kingdom Pictures\", \"id\": 41671}]</td>\n      <td>...</td>\n      <td>88.0</td>\n      <td>[]</td>\n      <td>Released</td>\n      <td>NaN</td>\n      <td>Running Forever</td>\n      <td>0.0</td>\n      <td>0</td>\n      <td>[]</td>\n      <td>[]</td>\n      <td>NaN</td>\n    </tr>\n    <tr>\n      <th>3729</th>\n      <td>3250000</td>\n      <td>[drama, family, foreign]</td>\n      <td>http://www.paathefilm.com/</td>\n      <td>26379</td>\n      <td>[]</td>\n      <td>en</td>\n      <td>Paa</td>\n      <td>He suffers from a progeria like syndrome. Ment...</td>\n      <td>2.126139</td>\n      <td>[{\"name\": \"A B Corp\", \"id\": 4502}]</td>\n      <td>...</td>\n      <td>133.0</td>\n      <td>[{\"iso_639_1\": \"hi\", \"name\": \"\\u0939\\u093f\\u09...</td>\n      <td>Released</td>\n      <td>NaN</td>\n      <td>Paa</td>\n      <td>6.6</td>\n      <td>19</td>\n      <td>[amitabhbachchan, abhishekbachchan, vidyabalan]</td>\n      <td>[{'credit_id': '52fe44fec3a368484e042a29', 'de...</td>\n      <td>NaN</td>\n    </tr>\n    <tr>\n      <th>3977</th>\n      <td>0</td>\n      <td>[comedy, drama, romance]</td>\n      <td>NaN</td>\n      <td>55831</td>\n      <td>[independentfilm]</td>\n      <td>en</td>\n      <td>Boynton Beach Club</td>\n      <td>A handful of men and women of a certain age pi...</td>\n      <td>0.188870</td>\n      <td>[]</td>\n      <td>...</td>\n      <td>105.0</td>\n      <td>[{\"iso_639_1\": \"en\", \"name\": \"English\"}]</td>\n      <td>Released</td>\n      <td>NaN</td>\n      <td>Boynton Beach Club</td>\n      <td>6.8</td>\n      <td>3</td>\n      <td>[brendavaccaro, dyancannon, josephbologna]</td>\n      <td>[]</td>\n      <td>NaN</td>\n    </tr>\n    <tr>\n      <th>4068</th>\n      <td>0</td>\n      <td>[]</td>\n      <td>NaN</td>\n      <td>371085</td>\n      <td>[]</td>\n      <td>en</td>\n      <td>Sharkskin</td>\n      <td>The Post War II story of Manhattan born Mike E...</td>\n      <td>0.027801</td>\n      <td>[]</td>\n      <td>...</td>\n      <td>0.0</td>\n      <td>[]</td>\n      <td>Released</td>\n      <td>NaN</td>\n      <td>Sharkskin</td>\n      <td>0.0</td>\n      <td>0</td>\n      <td>[]</td>\n      <td>[]</td>\n      <td>NaN</td>\n    </tr>\n    <tr>\n      <th>4105</th>\n      <td>2000000</td>\n      <td>[]</td>\n      <td>NaN</td>\n      <td>48382</td>\n      <td>[]</td>\n      <td>en</td>\n      <td>The Book of Mormon Movie, Volume 1: The Journey</td>\n      <td>The story of Lehi and his wife Sariah and thei...</td>\n      <td>0.031947</td>\n      <td>[]</td>\n      <td>...</td>\n      <td>120.0</td>\n      <td>[]</td>\n      <td>Released</td>\n      <td>2600 years ago, one family began a remarkable ...</td>\n      <td>The Book of Mormon Movie, Volume 1: The Journey</td>\n      <td>5.0</td>\n      <td>2</td>\n      <td>[kirbyheyborne, michaelflynn]</td>\n      <td>[]</td>\n      <td>NaN</td>\n    </tr>\n    <tr>\n      <th>4118</th>\n      <td>0</td>\n      <td>[]</td>\n      <td>NaN</td>\n      <td>325140</td>\n      <td>[]</td>\n      <td>en</td>\n      <td>Hum To Mohabbat Karega</td>\n      <td>Raju, a waiter, is in love with the famous TV ...</td>\n      <td>0.001186</td>\n      <td>[]</td>\n      <td>...</td>\n      <td>0.0</td>\n      <td>[]</td>\n      <td>Released</td>\n      <td>NaN</td>\n      <td>Hum To Mohabbat Karega</td>\n      <td>0.0</td>\n      <td>0</td>\n      <td>[]</td>\n      <td>[]</td>\n      <td>NaN</td>\n    </tr>\n    <tr>\n      <th>4123</th>\n      <td>7000000</td>\n      <td>[animation, family, foreign]</td>\n      <td>http://www.roadsideromeo.com/</td>\n      <td>20653</td>\n      <td>[]</td>\n      <td>en</td>\n      <td>Roadside Romeo</td>\n      <td>This is the story of Romeo. A dude who was liv...</td>\n      <td>0.253595</td>\n      <td>[{\"name\": \"Walt Disney Pictures\", \"id\": 2}, {\"...</td>\n      <td>...</td>\n      <td>93.0</td>\n      <td>[{\"iso_639_1\": \"en\", \"name\": \"English\"}, {\"iso...</td>\n      <td>Released</td>\n      <td>NaN</td>\n      <td>Roadside Romeo</td>\n      <td>6.7</td>\n      <td>3</td>\n      <td>[saifalikhan, kareenakapoor, javedjaffrey]</td>\n      <td>[]</td>\n      <td>NaN</td>\n    </tr>\n    <tr>\n      <th>4247</th>\n      <td>1</td>\n      <td>[romance, comedy, drama]</td>\n      <td>NaN</td>\n      <td>361505</td>\n      <td>[]</td>\n      <td>en</td>\n      <td>Me You and Five Bucks</td>\n      <td>A womanizing yet lovable loser, Charlie, a wai...</td>\n      <td>0.094105</td>\n      <td>[]</td>\n      <td>...</td>\n      <td>90.0</td>\n      <td>[]</td>\n      <td>Released</td>\n      <td>A story about second, second chances</td>\n      <td>Me You and Five Bucks</td>\n      <td>10.0</td>\n      <td>2</td>\n      <td>[]</td>\n      <td>[]</td>\n      <td>NaN</td>\n    </tr>\n    <tr>\n      <th>4305</th>\n      <td>0</td>\n      <td>[comedy, music]</td>\n      <td>NaN</td>\n      <td>114065</td>\n      <td>[]</td>\n      <td>en</td>\n      <td>Down &amp; Out With The Dolls</td>\n      <td>The raunchy, spunky tale of the rise and fall ...</td>\n      <td>0.002386</td>\n      <td>[]</td>\n      <td>...</td>\n      <td>88.0</td>\n      <td>[]</td>\n      <td>Released</td>\n      <td>Ain't Rock 'N' Roll a bitch.</td>\n      <td>Down &amp; Out With The Dolls</td>\n      <td>0.0</td>\n      <td>0</td>\n      <td>[]</td>\n      <td>[]</td>\n      <td>NaN</td>\n    </tr>\n    <tr>\n      <th>4314</th>\n      <td>1200000</td>\n      <td>[]</td>\n      <td>NaN</td>\n      <td>137955</td>\n      <td>[]</td>\n      <td>en</td>\n      <td>Crowsnest</td>\n      <td>In late summer of 2011, five young friends on ...</td>\n      <td>0.057564</td>\n      <td>[]</td>\n      <td>...</td>\n      <td>84.0</td>\n      <td>[]</td>\n      <td>Released</td>\n      <td>NaN</td>\n      <td>Crowsnest</td>\n      <td>4.8</td>\n      <td>12</td>\n      <td>[]</td>\n      <td>[]</td>\n      <td>NaN</td>\n    </tr>\n    <tr>\n      <th>4322</th>\n      <td>0</td>\n      <td>[documentary]</td>\n      <td>NaN</td>\n      <td>102840</td>\n      <td>[]</td>\n      <td>en</td>\n      <td>Sex With Strangers</td>\n      <td>For some married couples, sex is an obsession ...</td>\n      <td>0.014406</td>\n      <td>[]</td>\n      <td>...</td>\n      <td>0.0</td>\n      <td>[]</td>\n      <td>Released</td>\n      <td>NaN</td>\n      <td>Sex With Strangers</td>\n      <td>5.0</td>\n      <td>1</td>\n      <td>[]</td>\n      <td>[]</td>\n      <td>NaN</td>\n    </tr>\n    <tr>\n      <th>4374</th>\n      <td>0</td>\n      <td>[comedy]</td>\n      <td>NaN</td>\n      <td>47686</td>\n      <td>[independentfilm]</td>\n      <td>en</td>\n      <td>Dream with the Fishes</td>\n      <td>Terry is a suicidal voyeur who treats a dying ...</td>\n      <td>0.948316</td>\n      <td>[]</td>\n      <td>...</td>\n      <td>97.0</td>\n      <td>[{\"iso_639_1\": \"en\", \"name\": \"English\"}]</td>\n      <td>Released</td>\n      <td>An oddball odyssey about voyeurism, LSD and nu...</td>\n      <td>Dream with the Fishes</td>\n      <td>7.7</td>\n      <td>10</td>\n      <td>[davidarquette, bradhunt, kathrynerbe]</td>\n      <td>[{'credit_id': '555e51909251417e5f000b42', 'de...</td>\n      <td>NaN</td>\n    </tr>\n    <tr>\n      <th>4401</th>\n      <td>0</td>\n      <td>[action, comedy, sciencefiction]</td>\n      <td>NaN</td>\n      <td>43630</td>\n      <td>[]</td>\n      <td>en</td>\n      <td>The Helix... Loaded</td>\n      <td></td>\n      <td>0.020600</td>\n      <td>[]</td>\n      <td>...</td>\n      <td>97.0</td>\n      <td>[{\"iso_639_1\": \"en\", \"name\": \"English\"}]</td>\n      <td>Rumored</td>\n      <td>NaN</td>\n      <td>The Helix... Loaded</td>\n      <td>4.8</td>\n      <td>2</td>\n      <td>[]</td>\n      <td>[]</td>\n      <td>NaN</td>\n    </tr>\n    <tr>\n      <th>4405</th>\n      <td>0</td>\n      <td>[family, comedy]</td>\n      <td>https://www.epicbuzz.net/movies/karachi-se-lahore</td>\n      <td>357441</td>\n      <td>[]</td>\n      <td>en</td>\n      <td>Karachi se Lahore</td>\n      <td>A road trip from Karachi to Lahore where 5 fri...</td>\n      <td>0.060003</td>\n      <td>[]</td>\n      <td>...</td>\n      <td>0.0</td>\n      <td>[{\"iso_639_1\": \"ur\", \"name\": \"\\u0627\\u0631\\u06...</td>\n      <td>Released</td>\n      <td>NaN</td>\n      <td>Karachi se Lahore</td>\n      <td>8.0</td>\n      <td>1</td>\n      <td>[shehzadsheikh, ayeshaomar, yasirhussain]</td>\n      <td>[]</td>\n      <td>NaN</td>\n    </tr>\n    <tr>\n      <th>4458</th>\n      <td>0</td>\n      <td>[]</td>\n      <td>NaN</td>\n      <td>279759</td>\n      <td>[]</td>\n      <td>en</td>\n      <td>Harrison Montgomery</td>\n      <td>Film from Daniel Davila</td>\n      <td>0.006943</td>\n      <td>[]</td>\n      <td>...</td>\n      <td>0.0</td>\n      <td>[]</td>\n      <td>Released</td>\n      <td>NaN</td>\n      <td>Harrison Montgomery</td>\n      <td>0.0</td>\n      <td>0</td>\n      <td>[]</td>\n      <td>[]</td>\n      <td>NaN</td>\n    </tr>\n    <tr>\n      <th>4504</th>\n      <td>0</td>\n      <td>[]</td>\n      <td>NaN</td>\n      <td>331493</td>\n      <td>[]</td>\n      <td>en</td>\n      <td>Light from the Darkroom</td>\n      <td>Light in the Darkroom is the story of two best...</td>\n      <td>0.012942</td>\n      <td>[]</td>\n      <td>...</td>\n      <td>0.0</td>\n      <td>[]</td>\n      <td>Released</td>\n      <td>NaN</td>\n      <td>Light from the Darkroom</td>\n      <td>0.0</td>\n      <td>0</td>\n      <td>[]</td>\n      <td>[]</td>\n      <td>NaN</td>\n    </tr>\n    <tr>\n      <th>4553</th>\n      <td>0</td>\n      <td>[]</td>\n      <td>NaN</td>\n      <td>380097</td>\n      <td>[]</td>\n      <td>en</td>\n      <td>America Is Still the Place</td>\n      <td>1971 post civil rights San Francisco seemed li...</td>\n      <td>0.000000</td>\n      <td>[]</td>\n      <td>...</td>\n      <td>0.0</td>\n      <td>[]</td>\n      <td>Released</td>\n      <td>NaN</td>\n      <td>America Is Still the Place</td>\n      <td>0.0</td>\n      <td>0</td>\n      <td>[]</td>\n      <td>[]</td>\n      <td>NaN</td>\n    </tr>\n    <tr>\n      <th>4562</th>\n      <td>500000</td>\n      <td>[]</td>\n      <td>NaN</td>\n      <td>297100</td>\n      <td>[]</td>\n      <td>en</td>\n      <td>The Little Ponderosa Zoo</td>\n      <td>The Little Ponderosa Zoo is preparing for thei...</td>\n      <td>0.073079</td>\n      <td>[]</td>\n      <td>...</td>\n      <td>84.0</td>\n      <td>[{\"iso_639_1\": \"en\", \"name\": \"English\"}]</td>\n      <td>Released</td>\n      <td>NaN</td>\n      <td>The Little Ponderosa Zoo</td>\n      <td>2.0</td>\n      <td>1</td>\n      <td>[]</td>\n      <td>[]</td>\n      <td>NaN</td>\n    </tr>\n    <tr>\n      <th>4566</th>\n      <td>0</td>\n      <td>[]</td>\n      <td>NaN</td>\n      <td>325579</td>\n      <td>[]</td>\n      <td>en</td>\n      <td>Diamond Ruff</td>\n      <td>Action - Orphan, con artist, crime boss and mi...</td>\n      <td>0.165257</td>\n      <td>[]</td>\n      <td>...</td>\n      <td>0.0</td>\n      <td>[]</td>\n      <td>Released</td>\n      <td>NaN</td>\n      <td>Diamond Ruff</td>\n      <td>2.4</td>\n      <td>4</td>\n      <td>[]</td>\n      <td>[]</td>\n      <td>NaN</td>\n    </tr>\n    <tr>\n      <th>4571</th>\n      <td>0</td>\n      <td>[]</td>\n      <td>NaN</td>\n      <td>328307</td>\n      <td>[]</td>\n      <td>en</td>\n      <td>Rise of the Entrepreneur: The Search for a Bet...</td>\n      <td>The world is changing faster than ever. Techno...</td>\n      <td>0.052942</td>\n      <td>[]</td>\n      <td>...</td>\n      <td>0.0</td>\n      <td>[]</td>\n      <td>Released</td>\n      <td>NaN</td>\n      <td>Rise of the Entrepreneur: The Search for a Bet...</td>\n      <td>8.0</td>\n      <td>1</td>\n      <td>[]</td>\n      <td>[]</td>\n      <td>NaN</td>\n    </tr>\n    <tr>\n      <th>4583</th>\n      <td>0</td>\n      <td>[documentary]</td>\n      <td>http://www.iwantyourmoney.net/</td>\n      <td>47546</td>\n      <td>[]</td>\n      <td>en</td>\n      <td>I Want Your Money</td>\n      <td>Two versions of the American dream now stand i...</td>\n      <td>0.084344</td>\n      <td>[]</td>\n      <td>...</td>\n      <td>92.0</td>\n      <td>[]</td>\n      <td>Released</td>\n      <td>The film contrasts two views of role that the ...</td>\n      <td>I Want Your Money</td>\n      <td>3.8</td>\n      <td>5</td>\n      <td>[]</td>\n      <td>[]</td>\n      <td>NaN</td>\n    </tr>\n    <tr>\n      <th>4589</th>\n      <td>0</td>\n      <td>[drama, mystery, thriller]</td>\n      <td>NaN</td>\n      <td>43743</td>\n      <td>[independentfilm]</td>\n      <td>en</td>\n      <td>Fabled</td>\n      <td>Joseph just broke up with his girlfriend and i...</td>\n      <td>0.003352</td>\n      <td>[]</td>\n      <td>...</td>\n      <td>84.0</td>\n      <td>[]</td>\n      <td>Released</td>\n      <td>There once was a wolf named Lupold...</td>\n      <td>Fabled</td>\n      <td>0.0</td>\n      <td>0</td>\n      <td>[]</td>\n      <td>[]</td>\n      <td>NaN</td>\n    </tr>\n    <tr>\n      <th>4633</th>\n      <td>0</td>\n      <td>[]</td>\n      <td>NaN</td>\n      <td>300327</td>\n      <td>[]</td>\n      <td>en</td>\n      <td>Death Calls</td>\n      <td>An action-packed love story on the Mexican bor...</td>\n      <td>0.005883</td>\n      <td>[]</td>\n      <td>...</td>\n      <td>0.0</td>\n      <td>[]</td>\n      <td>Released</td>\n      <td>NaN</td>\n      <td>Death Calls</td>\n      <td>0.0</td>\n      <td>0</td>\n      <td>[]</td>\n      <td>[]</td>\n      <td>NaN</td>\n    </tr>\n    <tr>\n      <th>4638</th>\n      <td>300000</td>\n      <td>[drama, action, crime]</td>\n      <td>NaN</td>\n      <td>378237</td>\n      <td>[]</td>\n      <td>en</td>\n      <td>Amidst the Devil's Wings</td>\n      <td>Prequel to \"5th of a Degree.\"</td>\n      <td>0.018087</td>\n      <td>[{\"name\": \"Daniel Columbie Films &amp; Productions...</td>\n      <td>...</td>\n      <td>90.0</td>\n      <td>[{\"iso_639_1\": \"en\", \"name\": \"English\"}]</td>\n      <td>Released</td>\n      <td>Prequel to \"5th of a Degree.\"</td>\n      <td>Amidst the Devil's Wings</td>\n      <td>0.0</td>\n      <td>0</td>\n      <td>[]</td>\n      <td>[]</td>\n      <td>NaN</td>\n    </tr>\n    <tr>\n      <th>4644</th>\n      <td>0</td>\n      <td>[horror]</td>\n      <td>NaN</td>\n      <td>325123</td>\n      <td>[]</td>\n      <td>en</td>\n      <td>Teeth and Blood</td>\n      <td>A beautiful diva is murdered on the set of hor...</td>\n      <td>0.055325</td>\n      <td>[]</td>\n      <td>...</td>\n      <td>96.0</td>\n      <td>[{\"iso_639_1\": \"en\", \"name\": \"English\"}]</td>\n      <td>Released</td>\n      <td>NaN</td>\n      <td>Teeth and Blood</td>\n      <td>3.0</td>\n      <td>1</td>\n      <td>[glennplummer, michellevanderwater, daniellevega]</td>\n      <td>[]</td>\n      <td>NaN</td>\n    </tr>\n    <tr>\n      <th>4657</th>\n      <td>0</td>\n      <td>[]</td>\n      <td>NaN</td>\n      <td>320435</td>\n      <td>[]</td>\n      <td>en</td>\n      <td>UnDivided</td>\n      <td>UnDivided documents the true story of how a su...</td>\n      <td>0.010607</td>\n      <td>[]</td>\n      <td>...</td>\n      <td>0.0</td>\n      <td>[]</td>\n      <td>Released</td>\n      <td>NaN</td>\n      <td>UnDivided</td>\n      <td>0.0</td>\n      <td>0</td>\n      <td>[]</td>\n      <td>[]</td>\n      <td>NaN</td>\n    </tr>\n    <tr>\n      <th>4662</th>\n      <td>0</td>\n      <td>[comedy]</td>\n      <td>NaN</td>\n      <td>40963</td>\n      <td>[independentfilm]</td>\n      <td>en</td>\n      <td>Little Big Top</td>\n      <td>An aging out of work clown returns to his smal...</td>\n      <td>0.092100</td>\n      <td>[{\"name\": \"Fly High Films\", \"id\": 24248}]</td>\n      <td>...</td>\n      <td>0.0</td>\n      <td>[{\"iso_639_1\": \"en\", \"name\": \"English\"}]</td>\n      <td>Rumored</td>\n      <td>NaN</td>\n      <td>Little Big Top</td>\n      <td>10.0</td>\n      <td>1</td>\n      <td>[sidhaig, richardriehle, melengland]</td>\n      <td>[]</td>\n      <td>NaN</td>\n    </tr>\n    <tr>\n      <th>4674</th>\n      <td>0</td>\n      <td>[]</td>\n      <td>NaN</td>\n      <td>194588</td>\n      <td>[]</td>\n      <td>en</td>\n      <td>Short Cut to Nirvana: Kumbh Mela</td>\n      <td>Every 12 years over 70 million pilgrims gather...</td>\n      <td>0.004998</td>\n      <td>[]</td>\n      <td>...</td>\n      <td>85.0</td>\n      <td>[]</td>\n      <td>Released</td>\n      <td>NaN</td>\n      <td>Short Cut to Nirvana: Kumbh Mela</td>\n      <td>0.0</td>\n      <td>0</td>\n      <td>[]</td>\n      <td>[]</td>\n      <td>NaN</td>\n    </tr>\n    <tr>\n      <th>4716</th>\n      <td>0</td>\n      <td>[]</td>\n      <td>NaN</td>\n      <td>38786</td>\n      <td>[]</td>\n      <td>en</td>\n      <td>The Blood of My Brother: A Story of Death in Iraq</td>\n      <td>THE BLOOD OF MY BROTHER goes behind the scenes...</td>\n      <td>0.005256</td>\n      <td>[]</td>\n      <td>...</td>\n      <td>90.0</td>\n      <td>[]</td>\n      <td>Released</td>\n      <td>NaN</td>\n      <td>The Blood of My Brother: A Story of Death in Iraq</td>\n      <td>0.0</td>\n      <td>0</td>\n      <td>[]</td>\n      <td>[]</td>\n      <td>NaN</td>\n    </tr>\n  </tbody>\n</table>\n<p>30 rows × 23 columns</p>\n</div>"
     },
     "execution_count": 66,
     "metadata": {},
     "output_type": "execute_result"
    }
   ],
   "source": [
    "df2[df2['director'].isnull()]"
   ],
   "metadata": {
    "collapsed": false,
    "pycharm": {
     "name": "#%%\n"
    }
   }
  },
  {
   "cell_type": "code",
   "execution_count": 67,
   "outputs": [],
   "source": [
    "## cast, genres, keywords"
   ],
   "metadata": {
    "collapsed": false,
    "pycharm": {
     "name": "#%%\n"
    }
   }
  },
  {
   "cell_type": "code",
   "execution_count": 68,
   "outputs": [
    {
     "data": {
      "text/plain": "['samworthington', 'zoesaldana', 'sigourneyweaver']"
     },
     "execution_count": 68,
     "metadata": {},
     "output_type": "execute_result"
    }
   ],
   "source": [
    "df2.loc[0, 'cast']"
   ],
   "metadata": {
    "collapsed": false,
    "pycharm": {
     "name": "#%%\n"
    }
   }
  },
  {
   "cell_type": "code",
   "execution_count": 55,
   "outputs": [
    {
     "data": {
      "text/plain": "[{'id': 28, 'name': 'Action'},\n {'id': 12, 'name': 'Adventure'},\n {'id': 14, 'name': 'Fantasy'},\n {'id': 878, 'name': 'Science Fiction'}]"
     },
     "execution_count": 55,
     "metadata": {},
     "output_type": "execute_result"
    }
   ],
   "source": [
    "df2.loc[0, 'genres']"
   ],
   "metadata": {
    "collapsed": false,
    "pycharm": {
     "name": "#%%\n"
    }
   }
  },
  {
   "cell_type": "code",
   "execution_count": 56,
   "outputs": [
    {
     "data": {
      "text/plain": "[{'id': 1463, 'name': 'culture clash'},\n {'id': 2964, 'name': 'future'},\n {'id': 3386, 'name': 'space war'},\n {'id': 3388, 'name': 'space colony'},\n {'id': 3679, 'name': 'society'},\n {'id': 3801, 'name': 'space travel'},\n {'id': 9685, 'name': 'futuristic'},\n {'id': 9840, 'name': 'romance'},\n {'id': 9882, 'name': 'space'},\n {'id': 9951, 'name': 'alien'},\n {'id': 10148, 'name': 'tribe'},\n {'id': 10158, 'name': 'alien planet'},\n {'id': 10987, 'name': 'cgi'},\n {'id': 11399, 'name': 'marine'},\n {'id': 13065, 'name': 'soldier'},\n {'id': 14643, 'name': 'battle'},\n {'id': 14720, 'name': 'love affair'},\n {'id': 165431, 'name': 'anti war'},\n {'id': 193554, 'name': 'power relations'},\n {'id': 206690, 'name': 'mind and soul'},\n {'id': 209714, 'name': '3d'}]"
     },
     "execution_count": 56,
     "metadata": {},
     "output_type": "execute_result"
    }
   ],
   "source": [
    "df2.loc[0, 'keywords']"
   ],
   "metadata": {
    "collapsed": false,
    "pycharm": {
     "name": "#%%\n"
    }
   }
  },
  {
   "cell_type": "code",
   "execution_count": 57,
   "outputs": [],
   "source": [
    "# 처음 3개의 data 중에서 name에 해당하는 value만 추출\n",
    "def get_list(x):\n",
    "    if isinstance(x, list):\n",
    "        names = [i['name'] for i in x]\n",
    "        if len(names) > 3:\n",
    "            names = names[:3]\n",
    "        return names\n",
    "    return []"
   ],
   "metadata": {
    "collapsed": false,
    "pycharm": {
     "name": "#%%\n"
    }
   }
  },
  {
   "cell_type": "code",
   "execution_count": 58,
   "outputs": [],
   "source": [
    "features = ['cast', 'keywords', 'genres']\n",
    "for feature in features:\n",
    "    df2[feature] = df2[feature].apply(get_list)"
   ],
   "metadata": {
    "collapsed": false,
    "pycharm": {
     "name": "#%%\n"
    }
   }
  },
  {
   "cell_type": "code",
   "execution_count": 59,
   "outputs": [
    {
     "data": {
      "text/plain": "                                      title  \\\n0                                    Avatar   \n1  Pirates of the Caribbean: At World's End   \n2                                   Spectre   \n\n                                               cast director  \\\n0  [Sam Worthington, Zoe Saldana, Sigourney Weaver]      NaN   \n1     [Johnny Depp, Orlando Bloom, Keira Knightley]      NaN   \n2      [Daniel Craig, Christoph Waltz, Léa Seydoux]      NaN   \n\n                         genres  \n0  [Action, Adventure, Fantasy]  \n1  [Adventure, Fantasy, Action]  \n2    [Action, Adventure, Crime]  ",
      "text/html": "<div>\n<style scoped>\n    .dataframe tbody tr th:only-of-type {\n        vertical-align: middle;\n    }\n\n    .dataframe tbody tr th {\n        vertical-align: top;\n    }\n\n    .dataframe thead th {\n        text-align: right;\n    }\n</style>\n<table border=\"1\" class=\"dataframe\">\n  <thead>\n    <tr style=\"text-align: right;\">\n      <th></th>\n      <th>title</th>\n      <th>cast</th>\n      <th>director</th>\n      <th>genres</th>\n    </tr>\n  </thead>\n  <tbody>\n    <tr>\n      <th>0</th>\n      <td>Avatar</td>\n      <td>[Sam Worthington, Zoe Saldana, Sigourney Weaver]</td>\n      <td>NaN</td>\n      <td>[Action, Adventure, Fantasy]</td>\n    </tr>\n    <tr>\n      <th>1</th>\n      <td>Pirates of the Caribbean: At World's End</td>\n      <td>[Johnny Depp, Orlando Bloom, Keira Knightley]</td>\n      <td>NaN</td>\n      <td>[Adventure, Fantasy, Action]</td>\n    </tr>\n    <tr>\n      <th>2</th>\n      <td>Spectre</td>\n      <td>[Daniel Craig, Christoph Waltz, Léa Seydoux]</td>\n      <td>NaN</td>\n      <td>[Action, Adventure, Crime]</td>\n    </tr>\n  </tbody>\n</table>\n</div>"
     },
     "execution_count": 59,
     "metadata": {},
     "output_type": "execute_result"
    }
   ],
   "source": [
    " df2[['title', 'cast', 'director', 'genres']].head(3)"
   ],
   "metadata": {
    "collapsed": false,
    "pycharm": {
     "name": "#%%\n"
    }
   }
  },
  {
   "cell_type": "code",
   "execution_count": 75,
   "outputs": [],
   "source": [
    "def clean_data(x):\n",
    "    if isinstance(x, list):\n",
    "        return [str.lower(i.replace(' ', '')) for i in x]\n",
    "    else:\n",
    "        if isinstance(x, str):\n",
    "            return str.lower(x.replace(' ', ''))\n",
    "        else:\n",
    "            return ''\n"
   ],
   "metadata": {
    "collapsed": false,
    "pycharm": {
     "name": "#%%\n"
    }
   }
  },
  {
   "cell_type": "code",
   "execution_count": 76,
   "outputs": [],
   "source": [
    "features = ['cast', 'keywords','director' ,'genres']\n",
    "for feature in features:\n",
    "    df2[feature] = df2[feature].apply(clean_data)"
   ],
   "metadata": {
    "collapsed": false,
    "pycharm": {
     "name": "#%%\n"
    }
   }
  },
  {
   "cell_type": "code",
   "execution_count": 77,
   "outputs": [
    {
     "data": {
      "text/plain": "                                      title  \\\n0                                    Avatar   \n1  Pirates of the Caribbean: At World's End   \n2                                   Spectre   \n\n                                            cast       director  \\\n0  [samworthington, zoesaldana, sigourneyweaver]   jamescameron   \n1     [johnnydepp, orlandobloom, keiraknightley]  goreverbinski   \n2      [danielcraig, christophwaltz, léaseydoux]      sammendes   \n\n                         genres  \n0  [action, adventure, fantasy]  \n1  [adventure, fantasy, action]  \n2    [action, adventure, crime]  ",
      "text/html": "<div>\n<style scoped>\n    .dataframe tbody tr th:only-of-type {\n        vertical-align: middle;\n    }\n\n    .dataframe tbody tr th {\n        vertical-align: top;\n    }\n\n    .dataframe thead th {\n        text-align: right;\n    }\n</style>\n<table border=\"1\" class=\"dataframe\">\n  <thead>\n    <tr style=\"text-align: right;\">\n      <th></th>\n      <th>title</th>\n      <th>cast</th>\n      <th>director</th>\n      <th>genres</th>\n    </tr>\n  </thead>\n  <tbody>\n    <tr>\n      <th>0</th>\n      <td>Avatar</td>\n      <td>[samworthington, zoesaldana, sigourneyweaver]</td>\n      <td>jamescameron</td>\n      <td>[action, adventure, fantasy]</td>\n    </tr>\n    <tr>\n      <th>1</th>\n      <td>Pirates of the Caribbean: At World's End</td>\n      <td>[johnnydepp, orlandobloom, keiraknightley]</td>\n      <td>goreverbinski</td>\n      <td>[adventure, fantasy, action]</td>\n    </tr>\n    <tr>\n      <th>2</th>\n      <td>Spectre</td>\n      <td>[danielcraig, christophwaltz, léaseydoux]</td>\n      <td>sammendes</td>\n      <td>[action, adventure, crime]</td>\n    </tr>\n  </tbody>\n</table>\n</div>"
     },
     "execution_count": 77,
     "metadata": {},
     "output_type": "execute_result"
    }
   ],
   "source": [
    " df2[['title', 'cast', 'director', 'genres']].head(3)"
   ],
   "metadata": {
    "collapsed": false,
    "pycharm": {
     "name": "#%%\n"
    }
   }
  },
  {
   "cell_type": "code",
   "execution_count": 80,
   "outputs": [
    {
     "data": {
      "text/plain": "0       cultureclash future spacewar samworthington zo...\n1       ocean drugabuse exoticisland johnnydepp orland...\n2       spy basedonnovel secretagent danielcraig chris...\n3       dccomics crimefighter terrorist christianbale ...\n4       basedonnovel mars medallion taylorkitsch lynnc...\n                              ...                        \n4798    unitedstates–mexicobarrier legs arms carlosgal...\n4799     edwardburns kerrybishé marshadietlein edwardb...\n4800    date loveatfirstsight narration ericmabius kri...\n4801       danielhenney elizacoupe billpaxton danielhsia \n4802    obsession camcorder crush drewbarrymore brianh...\nName: soup, Length: 4803, dtype: object"
     },
     "execution_count": 80,
     "metadata": {},
     "output_type": "execute_result"
    }
   ],
   "source": [
    "def create_soup(x):\n",
    "    return  ' '.join(x['keywords']) + ' ' + ' '.join(x['cast']) + ' '+ x['director']+ ' ' + ' '.join(x['genres'])\n",
    "df2['soup'] = df2.apply(create_soup, axis = 1)\n",
    "df2['soup']"
   ],
   "metadata": {
    "collapsed": false,
    "pycharm": {
     "name": "#%%\n"
    }
   }
  },
  {
   "cell_type": "code",
   "execution_count": 82,
   "outputs": [
    {
     "data": {
      "text/plain": "<4803x11520 sparse matrix of type '<class 'numpy.int64'>'\n\twith 42935 stored elements in Compressed Sparse Row format>"
     },
     "execution_count": 82,
     "metadata": {},
     "output_type": "execute_result"
    }
   ],
   "source": [
    "from sklearn.feature_extraction.text import CountVectorizer\n",
    "\n",
    "count = CountVectorizer(stop_words = 'english')\n",
    "count_matrix = count.fit_transform(df2['soup'])\n",
    "count_matrix"
   ],
   "metadata": {
    "collapsed": false,
    "pycharm": {
     "name": "#%%\n"
    }
   }
  },
  {
   "cell_type": "code",
   "execution_count": 84,
   "outputs": [
    {
     "data": {
      "text/plain": "array([[1. , 0.3, 0.2, ..., 0. , 0. , 0. ],\n       [0.3, 1. , 0.2, ..., 0. , 0. , 0. ],\n       [0.2, 0.2, 1. , ..., 0. , 0. , 0. ],\n       ...,\n       [0. , 0. , 0. , ..., 1. , 0. , 0. ],\n       [0. , 0. , 0. , ..., 0. , 1. , 0. ],\n       [0. , 0. , 0. , ..., 0. , 0. , 1. ]])"
     },
     "execution_count": 84,
     "metadata": {},
     "output_type": "execute_result"
    }
   ],
   "source": [
    "from sklearn.metrics.pairwise import cosine_similarity\n",
    "cosine_sim2 = cosine_similarity(count_matrix, count_matrix)\n",
    "cosine_sim2"
   ],
   "metadata": {
    "collapsed": false,
    "pycharm": {
     "name": "#%%\n"
    }
   }
  },
  {
   "cell_type": "code",
   "execution_count": 91,
   "outputs": [
    {
     "data": {
      "text/plain": "32"
     },
     "execution_count": 91,
     "metadata": {},
     "output_type": "execute_result"
    }
   ],
   "source": [
    "indices['Alice in Wonderland']"
   ],
   "metadata": {
    "collapsed": false,
    "pycharm": {
     "name": "#%%\n"
    }
   }
  },
  {
   "cell_type": "code",
   "execution_count": 90,
   "outputs": [
    {
     "data": {
      "text/plain": "25"
     },
     "execution_count": 90,
     "metadata": {},
     "output_type": "execute_result"
    }
   ],
   "source": [
    "indices['Titanic']"
   ],
   "metadata": {
    "collapsed": false,
    "pycharm": {
     "name": "#%%\n"
    }
   }
  },
  {
   "cell_type": "code",
   "execution_count": 92,
   "outputs": [
    {
     "data": {
      "text/plain": "title\nAvatar                                         0\nPirates of the Caribbean: At World's End       1\nSpectre                                        2\nThe Dark Knight Rises                          3\nJohn Carter                                    4\n                                            ... \nEl Mariachi                                 4798\nNewlyweds                                   4799\nSigned, Sealed, Delivered                   4800\nShanghai Calling                            4801\nMy Date with Drew                           4802\nLength: 4803, dtype: int64"
     },
     "execution_count": 92,
     "metadata": {},
     "output_type": "execute_result"
    }
   ],
   "source": [
    "df2 = df2.reset_index()\n",
    "indices = pd.Series(df2.index, index = df2['title'])\n",
    "indices"
   ],
   "metadata": {
    "collapsed": false,
    "pycharm": {
     "name": "#%%\n"
    }
   }
  },
  {
   "cell_type": "code",
   "execution_count": 99,
   "outputs": [
    {
     "data": {
      "text/plain": "267                                     Kingdom of Heaven\n274                                             Gladiator\n53      Indiana Jones and the Kingdom of the Crystal S...\n157                                Exodus: Gods and Kings\n262     The Lord of the Rings: The Fellowship of the Ring\n379                                   Conan the Barbarian\n535                                          First Knight\n622                                          Body of Lies\n660                                         Proof of Life\n3616                                     Robin and Marian\nName: title, dtype: object"
     },
     "execution_count": 99,
     "metadata": {},
     "output_type": "execute_result"
    }
   ],
   "source": [
    "get_recommendations('Robin Hood', cosine_sim2)"
   ],
   "metadata": {
    "collapsed": false,
    "pycharm": {
     "name": "#%%\n"
    }
   }
  },
  {
   "cell_type": "code",
   "execution_count": null,
   "outputs": [],
   "source": [],
   "metadata": {
    "collapsed": false,
    "pycharm": {
     "name": "#%%\n"
    }
   }
  },
  {
   "cell_type": "code",
   "execution_count": null,
   "outputs": [],
   "source": [],
   "metadata": {
    "collapsed": false,
    "pycharm": {
     "name": "#%%\n"
    }
   }
  }
 ],
 "metadata": {
  "kernelspec": {
   "display_name": "Python 3",
   "language": "python",
   "name": "python3"
  },
  "language_info": {
   "codemirror_mode": {
    "name": "ipython",
    "version": 2
   },
   "file_extension": ".py",
   "mimetype": "text/x-python",
   "name": "python",
   "nbconvert_exporter": "python",
   "pygments_lexer": "ipython2",
   "version": "2.7.6"
  }
 },
 "nbformat": 4,
 "nbformat_minor": 0
}